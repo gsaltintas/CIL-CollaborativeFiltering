{
 "cells": [
  {
   "cell_type": "markdown",
   "metadata": {},
   "source": [
    "# PCA Notebook\n",
    "In this exercise we will apply the Principal Component Analysis (PCA) method to the Fashion MNIST dataset, a publicly available dataset of images. You are required to fill the \"TODO\" cells with Python code. The code scheleton, as well as the data loading part, are provided. \n",
    "\n",
    "Note: It is important that you first solve Problem 1 of the exercise sheet, so you have a clear picture of the theory behind PCA and of the steps to follow "
   ]
  },
  {
   "cell_type": "code",
   "execution_count": null,
   "metadata": {},
   "outputs": [],
   "source": [
    "%matplotlib inline\n",
    "\n",
    "import numpy as np\n",
    "import matplotlib.pyplot as plt\n",
    "from keras.datasets import fashion_mnist"
   ]
  },
  {
   "cell_type": "code",
   "execution_count": null,
   "metadata": {
    "scrolled": true
   },
   "outputs": [],
   "source": [
    "# Load Fashion MNIST dataset\n",
    "(trainX, trainy), (testX, testy) = fashion_mnist.load_data()\n",
    "\n",
    "# Display first image\n",
    "plt.imshow(trainX[0,:,:])\n",
    "width, height = trainX[0,:,:].shape\n",
    "print(trainy[0])"
   ]
  },
  {
   "cell_type": "code",
   "execution_count": null,
   "metadata": {},
   "outputs": [],
   "source": [
    "# Take only a few samples of the shoe class\n",
    "shoe_class = 9\n",
    "print(f'Num samples: {trainX.shape[0]}')\n",
    "trainX = trainX[trainy == shoe_class, :, :] \n",
    "print(f'Num samples: {trainX.shape[0]}')"
   ]
  },
  {
   "cell_type": "code",
   "execution_count": null,
   "metadata": {},
   "outputs": [],
   "source": [
    "trainX.shape"
   ]
  },
  {
   "cell_type": "markdown",
   "metadata": {},
   "source": [
    "## Prepare the data for PCA analysis\n",
    "In the first step, we simply standardize the data by removing the mean image and computing the covariance matrix of the data:\n",
    "$$\n",
    "\\bar{X} = X - M ,\n",
    "$$ \n",
    "and\n",
    "$$\n",
    "\\Sigma = \\frac{1}{N} \\bar{X}\\bar{X}^T ,\n",
    "$$\n",
    "where $M = [\\bar{x}, \\dots, \\bar{x}]$ is the matrix composed of $N$ repetitions of the mean image $\\bar{x}$."
   ]
  },
  {
   "cell_type": "code",
   "execution_count": null,
   "metadata": {},
   "outputs": [],
   "source": [
    "# Only consider trainX, and compute input matrix X : n x d\n",
    "X = trainX.reshape(trainX.shape[0], -1)\n",
    "\n",
    "# Take only a few samples of the shoe class\n",
    "n_samples = 100\n",
    "X = X[:n_samples,:]\n",
    "\n",
    "print(X.shape)"
   ]
  },
  {
   "cell_type": "code",
   "execution_count": null,
   "metadata": {},
   "outputs": [],
   "source": [
    "# Subtract the mean image from input matrix X\n",
    "mX = np.mean(X, axis=0)\n",
    "print(mX.shape)\n",
    "X = X - mX # broadcasting"
   ]
  },
  {
   "cell_type": "markdown",
   "metadata": {},
   "source": [
    "## PCA analysis\n",
    "PCA proceeds in the following steps. First, we perform the  eigenvalue decomposition of the covariance matrix:\n",
    "$$\n",
    "\\Sigma = U \\Lambda U^T ,\n",
    "$$ \n",
    "Then we select only the first $k$ singular vectors. Then we apply perform a change of basis of $\\bar{X}$ as follows:\n",
    "$$\n",
    "\\bar{Z} = U_k^T\\bar{X} . \n",
    "$$\n",
    "Finally, the dataset can be reconstructed by\n",
    "$$\n",
    "\\tilde{X} = U_k \\bar{Z}\n",
    "$$"
   ]
  },
  {
   "cell_type": "code",
   "execution_count": null,
   "metadata": {
    "scrolled": true
   },
   "outputs": [],
   "source": [
    "# reshape and visualize the mean image\n",
    "mX_2d = np.reshape(mX, (height, width))\n",
    "plt.imshow(mX_2d)"
   ]
  },
  {
   "cell_type": "code",
   "execution_count": null,
   "metadata": {},
   "outputs": [],
   "source": [
    "# compute covariance matrix: 1/n * X * X^T, if X is a d x n matrix\n",
    "covariance = 1/n_samples * np.dot(X.T, X) \n",
    "print(covariance.shape)\n",
    "plt.imshow(covariance)"
   ]
  },
  {
   "cell_type": "code",
   "execution_count": null,
   "metadata": {},
   "outputs": [],
   "source": [
    "# Compute SVD of the covariance matrix\n",
    "U, s, V = np.linalg.svd(covariance, full_matrices=True) # Sigma = U^T * diag(s) * V\n",
    "U.shape, V.shape, s.shape"
   ]
  },
  {
   "cell_type": "code",
   "execution_count": null,
   "metadata": {},
   "outputs": [],
   "source": [
    "# Extract first 5 eigenfaces which are represented by first 5 eigenvectors (columns of matrix U)\n",
    "k =  5\n",
    "list_eigenfaces = [np.reshape(U[:,i], (height, width)) for i in range(k)] # or np.array([0,1,2,3,4])\n",
    "eigenfaces = np.reshape(np.asarray(list_eigenfaces), (k*height, width))"
   ]
  },
  {
   "cell_type": "code",
   "execution_count": null,
   "metadata": {},
   "outputs": [],
   "source": [
    "fig1 = plt.figure() # create a figure with the default size \n",
    "# plt.imshow(eigenfaces)\n",
    "for i in range(k):\n",
    "  plt.imshow(list_eigenfaces[i])\n",
    "  plt.show()\n",
    "\n",
    "fig1.savefig('eigenfaces.png', dpi = 1000)\n",
    "eigenfaces.shape"
   ]
  },
  {
   "cell_type": "code",
   "execution_count": null,
   "metadata": {},
   "outputs": [],
   "source": [
    "# Build projection matrix U_k\n",
    "U_k = U[:, :k]\n",
    "U_k.shape"
   ]
  },
  {
   "cell_type": "code",
   "execution_count": null,
   "metadata": {},
   "outputs": [],
   "source": [
    "# Perform image compression with PCA keeping top K eigenvalues\n",
    "Z = U_k.T.dot(X.T)\n",
    "Z.shape"
   ]
  },
  {
   "cell_type": "code",
   "execution_count": null,
   "metadata": {},
   "outputs": [],
   "source": [
    "#Perform image decompression (don't forget to add back the original mean of the data)\n",
    "X_bar = U_k.dot(Z).T  + mX\n",
    "X_bar.shape"
   ]
  },
  {
   "cell_type": "code",
   "execution_count": null,
   "metadata": {},
   "outputs": [],
   "source": [
    "# Plot the original image to see how good is our decompression\n",
    "img_idx = 10\n",
    "\n",
    "first_img = np.reshape(X[img_idx,:] + mX, (height, width))\n",
    "fig3 = plt.figure() # create a figure with the default size \n",
    "plt.imshow(first_img)"
   ]
  },
  {
   "cell_type": "code",
   "execution_count": null,
   "metadata": {},
   "outputs": [],
   "source": [
    "# Decompressed\n",
    "first_img_decomp = np.reshape(X_bar[img_idx,:], (height, width))\n",
    "fig2 = plt.figure() # create a figure with the default size \n",
    "plt.imshow(first_img_decomp)"
   ]
  },
  {
   "cell_type": "code",
   "execution_count": null,
   "metadata": {},
   "outputs": [],
   "source": []
  },
  {
   "cell_type": "code",
   "execution_count": null,
   "metadata": {},
   "outputs": [],
   "source": []
  },
  {
   "cell_type": "code",
   "execution_count": null,
   "metadata": {},
   "outputs": [],
   "source": []
  }
 ],
 "metadata": {
  "kernelspec": {
   "display_name": "Python 3",
   "language": "python",
   "name": "python3"
  },
  "language_info": {
   "codemirror_mode": {
    "name": "ipython",
    "version": 3
   },
   "file_extension": ".py",
   "mimetype": "text/x-python",
   "name": "python",
   "nbconvert_exporter": "python",
   "pygments_lexer": "ipython3",
   "version": "3.8.0"
  }
 },
 "nbformat": 4,
 "nbformat_minor": 1
}
