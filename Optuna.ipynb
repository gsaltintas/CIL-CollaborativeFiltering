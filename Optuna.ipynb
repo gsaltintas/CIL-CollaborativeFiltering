{
 "cells": [
  {
   "cell_type": "code",
   "execution_count": 1,
   "metadata": {},
   "outputs": [],
   "source": [
    "%load_ext autoreload\n",
    "%autoreload 2\n",
    "\n",
    "import numpy as np\n",
    "import pandas as pd\n",
    "import math\n",
    "import wandb\n",
    "import optuna\n",
    "from optuna.integration.wandb import WeightsAndBiasesCallback\n",
    "from optuna.trial import TrialState\n",
    "# from models.optuna.SVD import SVD_\n",
    "from models.optuna.SVD import get_trainset\n",
    "\n",
    "import os\n",
    "import sys\n",
    "\n",
    "import surprise\n",
    "from surprise import SVD, NMF, KNNBaseline, SVDpp, KNNBasic\n",
    "from surprise import Dataset, Reader\n",
    "from surprise.model_selection import GridSearchCV"
   ]
  },
  {
   "cell_type": "code",
   "execution_count": 3,
   "metadata": {},
   "outputs": [],
   "source": [
    "\n",
    "def extract_users_items_predictions(data_pd):\n",
    "    users, movies = [\n",
    "        np.squeeze(arr)\n",
    "        for arr in np.split(\n",
    "            data_pd.Id.str.extract(\"r(\\d+)_c(\\d+)\").values.astype(int) - 1, 2, axis=-1\n",
    "        )\n",
    "    ]\n",
    "    predictions = data_pd.Prediction.values\n",
    "    return users, movies, predictions\n"
   ]
  },
  {
   "cell_type": "code",
   "execution_count": 4,
   "metadata": {},
   "outputs": [],
   "source": [
    "data_pd = pd.read_csv('./data/data_train.csv')\n",
    "sub_pd = pd.read_csv('./data/sampleSubmission.csv')\n",
    "\n",
    "train_users, train_movies, train_predictions = extract_users_items_predictions(\n",
    "    data_pd)  # use whole data bc doing gridsearchcv\n",
    "\n",
    "train_df = pd.DataFrame()\n",
    "train_df['users'] = train_users\n",
    "train_df['movies'] = train_movies\n",
    "train_df['ratings'] = train_predictions\n",
    "\n",
    "data = Dataset.load_from_df(train_df, Reader(rating_scale=(1, 5)))\n",
    "# required to directly call fit \n",
    "trainset = data.build_full_trainset()\n",
    "\n",
    "sub_users, sub_movies, sub_preds_wrong = extract_users_items_predictions(\n",
    "    sub_pd)\n",
    "\n",
    "sub_data = zip(sub_users, sub_movies)"
   ]
  },
  {
   "cell_type": "code",
   "execution_count": 14,
   "metadata": {},
   "outputs": [
    {
     "name": "stdout",
     "output_type": "stream",
     "text": [
      "0\n"
     ]
    }
   ],
   "source": [
    "# help(trainset); \n",
    "# trainset.ur\n",
    "for t in trainset.all_items():\n",
    "    print(t)\n",
    "    break"
   ]
  },
  {
   "cell_type": "code",
   "execution_count": 22,
   "metadata": {},
   "outputs": [],
   "source": [
    "\n",
    "class SVDpp_(SVDpp):\n",
    "    \"\"\"Wrapper class for SVD to be used with Optuna\"\"\"\n",
    "\n",
    "    def __init__(\n",
    "        self,\n",
    "        trainset=None,\n",
    "        n_factors=20,\n",
    "        n_epochs=20,\n",
    "        init_mean=0,\n",
    "        init_std_dev=0.1,\n",
    "        lr_all=0.007,\n",
    "        reg_all=0.02,\n",
    "        lr_bu=None,\n",
    "        lr_bi=None,\n",
    "        lr_pu=None,\n",
    "        lr_qi=None,\n",
    "        lr_yj=None,\n",
    "        reg_bu=None,\n",
    "        reg_bi=None,\n",
    "        reg_pu=None,\n",
    "        reg_qi=None,\n",
    "        reg_yj=None,\n",
    "        random_state=None,\n",
    "        verbose=False,\n",
    "        *args,\n",
    "        **kwargs\n",
    "    ):\n",
    "        SVDpp.__init__(\n",
    "            self,\n",
    "            n_factors,\n",
    "            n_epochs,\n",
    "            init_mean,\n",
    "            init_std_dev,\n",
    "            lr_all,\n",
    "            reg_all,\n",
    "            lr_bu,\n",
    "            lr_bi,\n",
    "            lr_pu,\n",
    "            lr_qi,\n",
    "            lr_yj,\n",
    "            reg_bu,\n",
    "            reg_bi,\n",
    "            reg_pu,\n",
    "            reg_qi,\n",
    "            reg_yj,\n",
    "            random_state,\n",
    "            verbose,\n",
    "            *args,\n",
    "            **kwargs\n",
    "        )\n",
    "        self.lr_all = lr_all\n",
    "        self.reg_all = reg_all\n",
    "        if trainset is None:\n",
    "            trainset = get_trainset()\n",
    "        if type(trainset) != surprise.trainset.Trainset:\n",
    "            trainset = trainset.build_full_trainset()\n",
    "        self.trainset = trainset\n",
    "\n",
    "    def get_params(self, deep=None):\n",
    "        params_lst = [\n",
    "            \"trainset\",\n",
    "            \"n_factors\",\n",
    "            \"n_epochs\",\n",
    "            \"init_mean\",\n",
    "            \"init_std_dev\",\n",
    "            \"lr_all\",\n",
    "            \"reg_all\",\n",
    "            \"lr_bu\",\n",
    "            \"lr_bi\",\n",
    "            \"lr_pu\",\n",
    "            \"lr_qi\",\n",
    "            \"lr_yj\",\n",
    "            \"reg_bu\",\n",
    "            \"reg_bi\",\n",
    "            \"reg_pu\",\n",
    "            \"reg_qi\",\n",
    "            \"reg_yj\",\n",
    "            \"random_state\",\n",
    "            \"verbose\",\n",
    "        ]\n",
    "        return {key: getattr(self, key) for key in params_lst}\n",
    "\n",
    "    def set_params(self, **params):\n",
    "        for key, val in params.items():\n",
    "            setattr(self, key, val)\n",
    "\n",
    "    def fit(self, X, y):\n",
    "        return SVDpp.fit(self, self.trainset)\n",
    "\n",
    "    def predict(self, X):\n",
    "        def _predict(it):\n",
    "            return SVDpp.predict(self, it[0], it[1]).est\n",
    "\n",
    "        from multiprocessing import Pool\n",
    "        pool = Pool()\n",
    "        res_ls = pool.map(_predict, X)\n",
    "#         res_ls = [SVDpp.predict(self, u, m).est for (u, m) in X]\n",
    "        return res_ls\n"
   ]
  },
  {
   "cell_type": "code",
   "execution_count": 23,
   "metadata": {},
   "outputs": [],
   "source": [
    "algo = SVDpp_(trainset, random_state=42, n_epochs=1)"
   ]
  },
  {
   "cell_type": "code",
   "execution_count": 24,
   "metadata": {
    "scrolled": false
   },
   "outputs": [
    {
     "data": {
      "text/plain": [
       "((1176952, 2),\n",
       " (1176952,),\n",
       " array([[  43,    0],\n",
       "        [  60,    0],\n",
       "        [  66,    0],\n",
       "        ...,\n",
       "        [9993,  999],\n",
       "        [9996,  999],\n",
       "        [9999,  999]]))"
      ]
     },
     "execution_count": 24,
     "metadata": {},
     "output_type": "execute_result"
    }
   ],
   "source": [
    "X = np.column_stack((train_users, train_movies))\n",
    "y = train_predictions\n",
    "X_test = np.column_stack((sub_users, sub_movies))\n",
    "X.shape, train_users.shape, X"
   ]
  },
  {
   "cell_type": "code",
   "execution_count": 25,
   "metadata": {
    "scrolled": true
   },
   "outputs": [
    {
     "data": {
      "text/plain": [
       "<__main__.SVDpp_ at 0x7f764a20c130>"
      ]
     },
     "execution_count": 25,
     "metadata": {},
     "output_type": "execute_result"
    }
   ],
   "source": [
    "algo.fit(X, y)"
   ]
  },
  {
   "cell_type": "code",
   "execution_count": 28,
   "metadata": {
    "scrolled": true
   },
   "outputs": [
    {
     "ename": "AttributeError",
     "evalue": "Can't pickle local object 'SVDpp_.predict.<locals>._predict'",
     "output_type": "error",
     "traceback": [
      "\u001b[0;31m---------------------------------------------------------------------------\u001b[0m",
      "\u001b[0;31mAttributeError\u001b[0m                            Traceback (most recent call last)",
      "Input \u001b[0;32mIn [28]\u001b[0m, in \u001b[0;36m<cell line: 1>\u001b[0;34m()\u001b[0m\n\u001b[0;32m----> 1\u001b[0m res \u001b[38;5;241m=\u001b[39m \u001b[43malgo\u001b[49m\u001b[38;5;241;43m.\u001b[39;49m\u001b[43mpredict\u001b[49m\u001b[43m(\u001b[49m\u001b[43mX\u001b[49m\u001b[43m)\u001b[49m\n\u001b[1;32m      2\u001b[0m res\n",
      "Input \u001b[0;32mIn [22]\u001b[0m, in \u001b[0;36mSVDpp_.predict\u001b[0;34m(self, X)\u001b[0m\n\u001b[1;32m     94\u001b[0m         \u001b[38;5;28;01mfrom\u001b[39;00m \u001b[38;5;21;01mmultiprocessing\u001b[39;00m \u001b[38;5;28;01mimport\u001b[39;00m Pool\n\u001b[1;32m     95\u001b[0m         pool \u001b[38;5;241m=\u001b[39m Pool()\n\u001b[0;32m---> 96\u001b[0m         res_ls \u001b[38;5;241m=\u001b[39m \u001b[43mpool\u001b[49m\u001b[38;5;241;43m.\u001b[39;49m\u001b[43mmap\u001b[49m\u001b[43m(\u001b[49m\u001b[43m_predict\u001b[49m\u001b[43m,\u001b[49m\u001b[43m \u001b[49m\u001b[43mX\u001b[49m\u001b[43m)\u001b[49m\n\u001b[1;32m     97\u001b[0m \u001b[38;5;66;03m#         res_ls = [SVDpp.predict(self, u, m).est for (u, m) in X]\u001b[39;00m\n\u001b[1;32m     98\u001b[0m         \u001b[38;5;28;01mreturn\u001b[39;00m res_ls\n",
      "File \u001b[0;32m~/anaconda3/envs/cil/lib/python3.10/multiprocessing/pool.py:364\u001b[0m, in \u001b[0;36mPool.map\u001b[0;34m(self, func, iterable, chunksize)\u001b[0m\n\u001b[1;32m    359\u001b[0m \u001b[38;5;28;01mdef\u001b[39;00m \u001b[38;5;21mmap\u001b[39m(\u001b[38;5;28mself\u001b[39m, func, iterable, chunksize\u001b[38;5;241m=\u001b[39m\u001b[38;5;28;01mNone\u001b[39;00m):\n\u001b[1;32m    360\u001b[0m     \u001b[38;5;124;03m'''\u001b[39;00m\n\u001b[1;32m    361\u001b[0m \u001b[38;5;124;03m    Apply `func` to each element in `iterable`, collecting the results\u001b[39;00m\n\u001b[1;32m    362\u001b[0m \u001b[38;5;124;03m    in a list that is returned.\u001b[39;00m\n\u001b[1;32m    363\u001b[0m \u001b[38;5;124;03m    '''\u001b[39;00m\n\u001b[0;32m--> 364\u001b[0m     \u001b[38;5;28;01mreturn\u001b[39;00m \u001b[38;5;28;43mself\u001b[39;49m\u001b[38;5;241;43m.\u001b[39;49m\u001b[43m_map_async\u001b[49m\u001b[43m(\u001b[49m\u001b[43mfunc\u001b[49m\u001b[43m,\u001b[49m\u001b[43m \u001b[49m\u001b[43miterable\u001b[49m\u001b[43m,\u001b[49m\u001b[43m \u001b[49m\u001b[43mmapstar\u001b[49m\u001b[43m,\u001b[49m\u001b[43m \u001b[49m\u001b[43mchunksize\u001b[49m\u001b[43m)\u001b[49m\u001b[38;5;241;43m.\u001b[39;49m\u001b[43mget\u001b[49m\u001b[43m(\u001b[49m\u001b[43m)\u001b[49m\n",
      "File \u001b[0;32m~/anaconda3/envs/cil/lib/python3.10/multiprocessing/pool.py:771\u001b[0m, in \u001b[0;36mApplyResult.get\u001b[0;34m(self, timeout)\u001b[0m\n\u001b[1;32m    769\u001b[0m     \u001b[38;5;28;01mreturn\u001b[39;00m \u001b[38;5;28mself\u001b[39m\u001b[38;5;241m.\u001b[39m_value\n\u001b[1;32m    770\u001b[0m \u001b[38;5;28;01melse\u001b[39;00m:\n\u001b[0;32m--> 771\u001b[0m     \u001b[38;5;28;01mraise\u001b[39;00m \u001b[38;5;28mself\u001b[39m\u001b[38;5;241m.\u001b[39m_value\n",
      "File \u001b[0;32m~/anaconda3/envs/cil/lib/python3.10/multiprocessing/pool.py:537\u001b[0m, in \u001b[0;36mPool._handle_tasks\u001b[0;34m(taskqueue, put, outqueue, pool, cache)\u001b[0m\n\u001b[1;32m    535\u001b[0m     \u001b[38;5;28;01mbreak\u001b[39;00m\n\u001b[1;32m    536\u001b[0m \u001b[38;5;28;01mtry\u001b[39;00m:\n\u001b[0;32m--> 537\u001b[0m     \u001b[43mput\u001b[49m\u001b[43m(\u001b[49m\u001b[43mtask\u001b[49m\u001b[43m)\u001b[49m\n\u001b[1;32m    538\u001b[0m \u001b[38;5;28;01mexcept\u001b[39;00m \u001b[38;5;167;01mException\u001b[39;00m \u001b[38;5;28;01mas\u001b[39;00m e:\n\u001b[1;32m    539\u001b[0m     job, idx \u001b[38;5;241m=\u001b[39m task[:\u001b[38;5;241m2\u001b[39m]\n",
      "File \u001b[0;32m~/anaconda3/envs/cil/lib/python3.10/multiprocessing/connection.py:211\u001b[0m, in \u001b[0;36m_ConnectionBase.send\u001b[0;34m(self, obj)\u001b[0m\n\u001b[1;32m    209\u001b[0m \u001b[38;5;28mself\u001b[39m\u001b[38;5;241m.\u001b[39m_check_closed()\n\u001b[1;32m    210\u001b[0m \u001b[38;5;28mself\u001b[39m\u001b[38;5;241m.\u001b[39m_check_writable()\n\u001b[0;32m--> 211\u001b[0m \u001b[38;5;28mself\u001b[39m\u001b[38;5;241m.\u001b[39m_send_bytes(\u001b[43m_ForkingPickler\u001b[49m\u001b[38;5;241;43m.\u001b[39;49m\u001b[43mdumps\u001b[49m\u001b[43m(\u001b[49m\u001b[43mobj\u001b[49m\u001b[43m)\u001b[49m)\n",
      "File \u001b[0;32m~/anaconda3/envs/cil/lib/python3.10/multiprocessing/reduction.py:51\u001b[0m, in \u001b[0;36mForkingPickler.dumps\u001b[0;34m(cls, obj, protocol)\u001b[0m\n\u001b[1;32m     48\u001b[0m \u001b[38;5;129m@classmethod\u001b[39m\n\u001b[1;32m     49\u001b[0m \u001b[38;5;28;01mdef\u001b[39;00m \u001b[38;5;21mdumps\u001b[39m(\u001b[38;5;28mcls\u001b[39m, obj, protocol\u001b[38;5;241m=\u001b[39m\u001b[38;5;28;01mNone\u001b[39;00m):\n\u001b[1;32m     50\u001b[0m     buf \u001b[38;5;241m=\u001b[39m io\u001b[38;5;241m.\u001b[39mBytesIO()\n\u001b[0;32m---> 51\u001b[0m     \u001b[38;5;28;43mcls\u001b[39;49m\u001b[43m(\u001b[49m\u001b[43mbuf\u001b[49m\u001b[43m,\u001b[49m\u001b[43m \u001b[49m\u001b[43mprotocol\u001b[49m\u001b[43m)\u001b[49m\u001b[38;5;241;43m.\u001b[39;49m\u001b[43mdump\u001b[49m\u001b[43m(\u001b[49m\u001b[43mobj\u001b[49m\u001b[43m)\u001b[49m\n\u001b[1;32m     52\u001b[0m     \u001b[38;5;28;01mreturn\u001b[39;00m buf\u001b[38;5;241m.\u001b[39mgetbuffer()\n",
      "\u001b[0;31mAttributeError\u001b[0m: Can't pickle local object 'SVDpp_.predict.<locals>._predict'"
     ]
    }
   ],
   "source": [
    "res = algo.predict(X)\n",
    "res"
   ]
  },
  {
   "cell_type": "code",
   "execution_count": 19,
   "metadata": {},
   "outputs": [],
   "source": [
    "test_res = algo.predict(X_test)"
   ]
  },
  {
   "cell_type": "code",
   "execution_count": 20,
   "metadata": {},
   "outputs": [],
   "source": [
    "test_res = [r.est for r in test_res]\n",
    "# X_test"
   ]
  },
  {
   "cell_type": "code",
   "execution_count": 21,
   "metadata": {},
   "outputs": [],
   "source": [
    "sub_pd['Prediction'] = test_res\n",
    "sub_pd.to_csv('./results/svd_optuna.csv', index=False)"
   ]
  },
  {
   "cell_type": "code",
   "execution_count": 33,
   "metadata": {},
   "outputs": [
    {
     "name": "stdout",
     "output_type": "stream",
     "text": [
      "Id,Prediction\r\n",
      "r37_c1,3.3465079344840216\r\n",
      "r73_c1,2.303056471943172\r\n",
      "r156_c1,4.375156289223989\r\n",
      "r160_c1,3.2265289939442705\r\n",
      "r248_c1,3.0306463340157492\r\n",
      "r256_c1,3.8671480155252054\r\n",
      "r284_c1,4.062109412655746\r\n",
      "r400_c1,3.1878873949063395\r\n",
      "r416_c1,4.782712801817294\r\n"
     ]
    }
   ],
   "source": [
    "! head results/svd_optuna.csv"
   ]
  },
  {
   "cell_type": "code",
   "execution_count": 26,
   "metadata": {},
   "outputs": [
    {
     "name": "stdout",
     "output_type": "stream",
     "text": [
      "/cluster/home/galtintas/cil\r\n"
     ]
    }
   ],
   "source": [
    "! pwd"
   ]
  },
  {
   "cell_type": "code",
   "execution_count": 31,
   "metadata": {},
   "outputs": [
    {
     "data": {
      "text/html": [
       "<div>\n",
       "<style scoped>\n",
       "    .dataframe tbody tr th:only-of-type {\n",
       "        vertical-align: middle;\n",
       "    }\n",
       "\n",
       "    .dataframe tbody tr th {\n",
       "        vertical-align: top;\n",
       "    }\n",
       "\n",
       "    .dataframe thead th {\n",
       "        text-align: right;\n",
       "    }\n",
       "</style>\n",
       "<table border=\"1\" class=\"dataframe\">\n",
       "  <thead>\n",
       "    <tr style=\"text-align: right;\">\n",
       "      <th></th>\n",
       "      <th>Id</th>\n",
       "      <th>Prediction</th>\n",
       "    </tr>\n",
       "  </thead>\n",
       "  <tbody>\n",
       "    <tr>\n",
       "      <th>0</th>\n",
       "      <td>r37_c1</td>\n",
       "      <td>3.346508</td>\n",
       "    </tr>\n",
       "    <tr>\n",
       "      <th>1</th>\n",
       "      <td>r73_c1</td>\n",
       "      <td>2.303056</td>\n",
       "    </tr>\n",
       "    <tr>\n",
       "      <th>2</th>\n",
       "      <td>r156_c1</td>\n",
       "      <td>4.375156</td>\n",
       "    </tr>\n",
       "    <tr>\n",
       "      <th>3</th>\n",
       "      <td>r160_c1</td>\n",
       "      <td>3.226529</td>\n",
       "    </tr>\n",
       "    <tr>\n",
       "      <th>4</th>\n",
       "      <td>r248_c1</td>\n",
       "      <td>3.030646</td>\n",
       "    </tr>\n",
       "    <tr>\n",
       "      <th>...</th>\n",
       "      <td>...</td>\n",
       "      <td>...</td>\n",
       "    </tr>\n",
       "    <tr>\n",
       "      <th>1176947</th>\n",
       "      <td>r9974_c1000</td>\n",
       "      <td>3.728241</td>\n",
       "    </tr>\n",
       "    <tr>\n",
       "      <th>1176948</th>\n",
       "      <td>r9977_c1000</td>\n",
       "      <td>3.490701</td>\n",
       "    </tr>\n",
       "    <tr>\n",
       "      <th>1176949</th>\n",
       "      <td>r9978_c1000</td>\n",
       "      <td>4.094847</td>\n",
       "    </tr>\n",
       "    <tr>\n",
       "      <th>1176950</th>\n",
       "      <td>r9982_c1000</td>\n",
       "      <td>2.537528</td>\n",
       "    </tr>\n",
       "    <tr>\n",
       "      <th>1176951</th>\n",
       "      <td>r9996_c1000</td>\n",
       "      <td>3.413597</td>\n",
       "    </tr>\n",
       "  </tbody>\n",
       "</table>\n",
       "<p>1176952 rows × 2 columns</p>\n",
       "</div>"
      ],
      "text/plain": [
       "                  Id  Prediction\n",
       "0             r37_c1    3.346508\n",
       "1             r73_c1    2.303056\n",
       "2            r156_c1    4.375156\n",
       "3            r160_c1    3.226529\n",
       "4            r248_c1    3.030646\n",
       "...              ...         ...\n",
       "1176947  r9974_c1000    3.728241\n",
       "1176948  r9977_c1000    3.490701\n",
       "1176949  r9978_c1000    4.094847\n",
       "1176950  r9982_c1000    2.537528\n",
       "1176951  r9996_c1000    3.413597\n",
       "\n",
       "[1176952 rows x 2 columns]"
      ]
     },
     "execution_count": 31,
     "metadata": {},
     "output_type": "execute_result"
    }
   ],
   "source": [
    "sub_pd['Prediction'] = test_res\n",
    "sub_pd"
   ]
  },
  {
   "cell_type": "code",
   "execution_count": 35,
   "metadata": {},
   "outputs": [
    {
     "data": {
      "text/plain": [
       "<zip at 0x2b65a1876c00>"
      ]
     },
     "execution_count": 35,
     "metadata": {},
     "output_type": "execute_result"
    }
   ],
   "source": [
    "sub_data"
   ]
  },
  {
   "cell_type": "code",
   "execution_count": null,
   "metadata": {},
   "outputs": [],
   "source": []
  }
 ],
 "metadata": {
  "kernelspec": {
   "display_name": "Python 3",
   "language": "python",
   "name": "python3"
  },
  "language_info": {
   "codemirror_mode": {
    "name": "ipython",
    "version": 3
   },
   "file_extension": ".py",
   "mimetype": "text/x-python",
   "name": "python",
   "nbconvert_exporter": "python",
   "pygments_lexer": "ipython3",
   "version": "3.10.4"
  },
  "vscode": {
   "interpreter": {
    "hash": "1e692df8f5475c38a3eca88bd715ac87647d45eef5f05a141c6c997615290da6"
   }
  }
 },
 "nbformat": 4,
 "nbformat_minor": 4
}
