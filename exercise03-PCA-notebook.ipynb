{
 "cells": [
  {
   "cell_type": "markdown",
   "metadata": {},
   "source": [
    "# PCA Notebook\n",
    "In this exercise we will apply the Principal Component Analysis (PCA) method to the Fashion MNIST dataset, a publicly available dataset of images. You are required to fill the \"TODO\" cells with Python code. The code scheleton, as well as the data loading part, are provided. \n",
    "\n",
    "Note: It is important that you first solve Problem 1 of the exercise sheet, so you have a clear picture of the theory behind PCA and of the steps to follow "
   ]
  },
  {
   "cell_type": "markdown",
   "metadata": {},
   "source": [
    "## Imports"
   ]
  },
  {
   "cell_type": "code",
   "execution_count": 1,
   "metadata": {},
   "outputs": [
    {
     "ename": "ModuleNotFoundError",
     "evalue": "No module named 'keras'",
     "output_type": "error",
     "traceback": [
      "\u001b[0;31m---------------------------------------------------------------------------\u001b[0m",
      "\u001b[0;31mModuleNotFoundError\u001b[0m                       Traceback (most recent call last)",
      "\u001b[0;32m<ipython-input-1-35e3eafeebcd>\u001b[0m in \u001b[0;36m<module>\u001b[0;34m\u001b[0m\n\u001b[1;32m      7\u001b[0m \u001b[0;32mimport\u001b[0m \u001b[0mos\u001b[0m\u001b[0;34m,\u001b[0m\u001b[0msys\u001b[0m\u001b[0;34m\u001b[0m\u001b[0;34m\u001b[0m\u001b[0m\n\u001b[1;32m      8\u001b[0m \u001b[0;32mfrom\u001b[0m \u001b[0mPIL\u001b[0m \u001b[0;32mimport\u001b[0m \u001b[0mImage\u001b[0m\u001b[0;34m\u001b[0m\u001b[0;34m\u001b[0m\u001b[0m\n\u001b[0;32m----> 9\u001b[0;31m \u001b[0;32mfrom\u001b[0m \u001b[0mkeras\u001b[0m\u001b[0;34m.\u001b[0m\u001b[0mdatasets\u001b[0m \u001b[0;32mimport\u001b[0m \u001b[0mfashion_mnist\u001b[0m\u001b[0;34m\u001b[0m\u001b[0;34m\u001b[0m\u001b[0m\n\u001b[0m",
      "\u001b[0;31mModuleNotFoundError\u001b[0m: No module named 'keras'"
     ]
    }
   ],
   "source": [
    "%matplotlib inline\n",
    "\n",
    "import matplotlib\n",
    "import numpy as np\n",
    "import matplotlib.pyplot as plt\n",
    "# pip3 install Pillow\n",
    "import os,sys\n",
    "from PIL import Image\n",
    "from keras.datasets import fashion_mnist"
   ]
  },
  {
   "cell_type": "markdown",
   "metadata": {},
   "source": [
    "## Data Loading"
   ]
  },
  {
   "cell_type": "code",
   "execution_count": null,
   "metadata": {
    "scrolled": true
   },
   "outputs": [],
   "source": [
    "# Load Fashion MNIST dataset\n",
    "(trainX, trainy), (testX, testy) = fashion_mnist.load_data()\n",
    "\n",
    "# Display first image\n",
    "plt.imshow(trainX[0,:,:])\n",
    "width, height = trainX[0,:,:].shape"
   ]
  },
  {
   "cell_type": "code",
   "execution_count": null,
   "metadata": {},
   "outputs": [],
   "source": [
    "# Take only a few samples of the shoe class\n",
    "print(f'Num samples: {trainX.shape[0]}')\n",
    "trainX = trainX[trainy == 9, :, :] \n",
    "print(f'Num samples: {trainX.shape[0]}')"
   ]
  },
  {
   "cell_type": "code",
   "execution_count": null,
   "metadata": {},
   "outputs": [],
   "source": [
    "# Only consider trainX, and compute input matrix X : n x d\n",
    "X = trainX.reshape(trainX.shape[0], -1)\n",
    "\n",
    "# Take only a few samples of the shoe class\n",
    "X = X[:100,:]\n",
    "\n",
    "print(X.shape)"
   ]
  },
  {
   "cell_type": "markdown",
   "metadata": {},
   "source": [
    "## Prepare the data for PCA analysis\n",
    "In the first step, we simply standardize the data by removing the mean image and computing the covariance matrix of the data:\n",
    "$$\n",
    "\\bar{X} = X ... \n",
    "$$ \n",
    "and\n",
    "$$\n",
    "\\Sigma = ...\n",
    "$$"
   ]
  },
  {
   "cell_type": "code",
   "execution_count": null,
   "metadata": {},
   "outputs": [],
   "source": [
    "# TODO: Subtract the mean image from input matrix X\n",
    "X = X - ..."
   ]
  },
  {
   "cell_type": "code",
   "execution_count": null,
   "metadata": {
    "collapsed": true
   },
   "outputs": [],
   "source": [
    "# TODO: compute covariance matrix: 1/n * X * X^T, if X is a d x n matrix\n",
    "covariance = ..."
   ]
  },
  {
   "cell_type": "markdown",
   "metadata": {},
   "source": [
    "## PCA analysis\n",
    "PCA proceeds in the following steps. First, we perform the  eigenvalue decomposition of the covariance matrix:\n",
    "$$\n",
    "\\Sigma = ... \n",
    "$$ \n",
    "Then we select only the first $k$ singular vectors. Then we apply perform a change of basis of $\\bar{X}$ as follows:\n",
    "$$\n",
    "\\bar{Z} = ... \n",
    "$$\n",
    "Finally, the dataset can be reconstructed by\n",
    "$$\n",
    "\\tilde{X} = ...\n",
    "$$"
   ]
  },
  {
   "cell_type": "code",
   "execution_count": null,
   "metadata": {},
   "outputs": [],
   "source": [
    "# Set k\n",
    "k = 5"
   ]
  },
  {
   "cell_type": "code",
   "execution_count": null,
   "metadata": {},
   "outputs": [],
   "source": [
    "# TODO: Compute SVD of the covariance matrix\n",
    "U, L, VT = ..."
   ]
  },
  {
   "cell_type": "code",
   "execution_count": null,
   "metadata": {},
   "outputs": [],
   "source": [
    "# TODO: (optional) Extract first 5 eigenshoes which are represented by first 5 eigenvectors (columns of matrix U)"
   ]
  },
  {
   "cell_type": "code",
   "execution_count": null,
   "metadata": {},
   "outputs": [],
   "source": [
    "# TODO: (optional) visualize the eigenshoes extracted at the previous point"
   ]
  },
  {
   "cell_type": "code",
   "execution_count": null,
   "metadata": {},
   "outputs": [],
   "source": [
    "# TODO: Build projection matrix U_k\n",
    "U_k = ..."
   ]
  },
  {
   "cell_type": "code",
   "execution_count": null,
   "metadata": {},
   "outputs": [],
   "source": [
    "# TODO: Apply change of basis\n",
    "Z = ..."
   ]
  },
  {
   "cell_type": "code",
   "execution_count": null,
   "metadata": {},
   "outputs": [],
   "source": [
    "# TODO: Perform image decompression (don't forget to add back the original mean of the data)\n",
    "X_reconstr = ..."
   ]
  },
  {
   "cell_type": "code",
   "execution_count": null,
   "metadata": {},
   "outputs": [],
   "source": [
    "# TODO: Plot one original image to see how good our decompression is"
   ]
  },
  {
   "cell_type": "code",
   "execution_count": null,
   "metadata": {},
   "outputs": [],
   "source": []
  },
  {
   "cell_type": "code",
   "execution_count": null,
   "metadata": {},
   "outputs": [],
   "source": []
  }
 ],
 "metadata": {
  "kernelspec": {
   "display_name": "Python 3",
   "language": "python",
   "name": "python3"
  },
  "language_info": {
   "codemirror_mode": {
    "name": "ipython",
    "version": 3
   },
   "file_extension": ".py",
   "mimetype": "text/x-python",
   "name": "python",
   "nbconvert_exporter": "python",
   "pygments_lexer": "ipython3",
   "version": "3.8.0"
  }
 },
 "nbformat": 4,
 "nbformat_minor": 1
}
