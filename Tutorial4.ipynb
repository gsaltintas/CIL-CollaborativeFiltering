{
 "cells": [
  {
   "cell_type": "code",
   "execution_count": 190,
   "metadata": {},
   "outputs": [],
   "source": [
    "import numpy as np\n",
    "import matplotlib.pyplot as plt"
   ]
  },
  {
   "cell_type": "code",
   "execution_count": 380,
   "metadata": {},
   "outputs": [
    {
     "data": {
      "text/plain": [
       "array([[ 8. ,  7. ,  1. ,  5.5,  4. ],\n",
       "       [ 9. ,  7. ,  2. ,  5. ,  6. ],\n",
       "       [ 1. ,  4. ,  9. ,  5.5,  3. ],\n",
       "       [ 3. ,  5.5,  8. ,  5. ,  4. ],\n",
       "       [ 5.5,  3. ,  5.5,  9. ,  9. ],\n",
       "       [ 5. ,  1. ,  4. , 10. ,  5.5]])"
      ]
     },
     "execution_count": 380,
     "metadata": {},
     "output_type": "execute_result"
    }
   ],
   "source": [
    "A = np.array([[8, 7, 1, np.nan, 4],\n",
    "             [9, 7, 2, 5, 6],\n",
    "             [1, 4, 9, np.nan, 3],\n",
    "             [3, np.nan, 8, 5, 4],\n",
    "             [np.nan, 3, np.nan, 9, 9],\n",
    "             [5, 1, 4, 10, np.nan]])\n",
    "np.nanmean(A)\n",
    "# from the exercise sheet\n",
    "mean_of_known = 5.5\n",
    "np.putmask(A, np.isnan(A), mean_of_known)\n",
    "A"
   ]
  },
  {
   "cell_type": "code",
   "execution_count": 334,
   "metadata": {
    "scrolled": true
   },
   "outputs": [],
   "source": [
    "# mA = np.mean(A, axis=0)\n",
    "# A = A - mA\n",
    "# A"
   ]
  },
  {
   "cell_type": "code",
   "execution_count": 338,
   "metadata": {},
   "outputs": [
    {
     "data": {
      "text/plain": [
       "((6, 6), (6, 5), (5, 5))"
      ]
     },
     "execution_count": 338,
     "metadata": {},
     "output_type": "execute_result"
    }
   ],
   "source": [
    "U, s, VT = np.linalg.svd(A)\n",
    "Σ = np.zeros(A.shape)\n",
    "Σ[:5, :5] = np.diag(s)\n",
    "assert np.allclose(A, U.dot(Σ).dot(VT))\n",
    "U.shape, Σ.shape, VT.shape"
   ]
  },
  {
   "cell_type": "code",
   "execution_count": 301,
   "metadata": {},
   "outputs": [
    {
     "data": {
      "text/plain": [
       "[<matplotlib.lines.Line2D at 0x7f060b77a100>]"
      ]
     },
     "execution_count": 301,
     "metadata": {},
     "output_type": "execute_result"
    },
    {
     "data": {
      "image/png": "[encoded data removed]",
      "text/plain": [
       "<Figure size 432x288 with 1 Axes>"
      ]
     },
     "metadata": {
      "needs_background": "light"
     },
     "output_type": "display_data"
    }
   ],
   "source": [
    "plt.figure()\n",
    "plt.title('Eigen values')\n",
    "plt.plot(Σ)"
   ]
  },
  {
   "cell_type": "code",
   "execution_count": 302,
   "metadata": {},
   "outputs": [
    {
     "name": "stdout",
     "output_type": "stream",
     "text": [
      "Reconstruction err for 1 eigen values: 158.37216988938545\n",
      "Reconstruction err for 2 eigen values: 58.3470409586189\n",
      "Reconstruction err for 3 eigen values: 8.074205547129234\n",
      "Reconstruction err for 4 eigen values: 0.4569108232034014\n",
      "Reconstruction err for 5 eigen values: 6.045139724321766e-28\n"
     ]
    }
   ],
   "source": [
    "for i in range(Σ.shape[0]):\n",
    "    U_ = U[:, :i+1]\n",
    "    print(f'Reconstruction err for {i+1} eigen values: {np.sum(np.square(A - U_@U_.T@A))}')"
   ]
  },
  {
   "cell_type": "markdown",
   "metadata": {},
   "source": [
    "__Question 1.8__: Now reduce the dimensionality to $k=2$"
   ]
  },
  {
   "cell_type": "code",
   "execution_count": 303,
   "metadata": {},
   "outputs": [],
   "source": [
    "movies = np.array(['American Pie', 'Shrek', 'Titanic', 'Godfather', 'Avatar', 'Star Wars'])\n",
    "users = np.array(['Ben', 'Tom', 'John', 'Fred', 'Jack'])"
   ]
  },
  {
   "cell_type": "code",
   "execution_count": 304,
   "metadata": {},
   "outputs": [
    {
     "data": {
      "text/plain": [
       "((2, 5),\n",
       " array([[-13.20735084, -10.99934818, -11.5975402 , -16.54863217,\n",
       "         -13.35469536],\n",
       "        [ -5.95883312,  -2.5327528 ,   7.44304164,   1.58271361,\n",
       "          -0.44581253]]))"
      ]
     },
     "execution_count": 304,
     "metadata": {},
     "output_type": "execute_result"
    }
   ],
   "source": [
    "k = 2\n",
    "U_ = U[:, :k]\n",
    "A_ = U_ @ U_.T @ A\n",
    "Z = U_.T @ A\n",
    "Z.shape, Z"
   ]
  },
  {
   "cell_type": "code",
   "execution_count": 346,
   "metadata": {
    "scrolled": true
   },
   "outputs": [
    {
     "data": {
      "text/plain": [
       "((6, 5),\n",
       " (6, 2),\n",
       " array([[-0.3839444 , -0.51022397],\n",
       "        [-0.4329622 , -0.5122112 ],\n",
       "        [-0.3317707 ,  0.5825038 ],\n",
       "        [-0.37303067,  0.33859503],\n",
       "        [-0.49715572,  0.10794286],\n",
       "        [-0.41078333,  0.10817697]]),\n",
       " ['American Pie', 'Shrek', 'Titanic', 'Godfather', 'Avatar', 'Star Wars'])"
      ]
     },
     "execution_count": 346,
     "metadata": {},
     "output_type": "execute_result"
    },
    {
     "data": {
      "image/png": "[encoded data removed]",
      "text/plain": [
       "<Figure size 432x288 with 1 Axes>"
      ]
     },
     "metadata": {
      "needs_background": "light"
     },
     "output_type": "display_data"
    }
   ],
   "source": [
    "plt.figure()\n",
    "plt.title('Movies')\n",
    "plt.grid()\n",
    "\n",
    "# plt.axhline(0,color='red') # x = 0\n",
    "# plt.axvline(0,color='red') # y = 0\n",
    "# plt.xlim(-0.8, 0.2)\n",
    "# plt.ylim(-0.8, 0.8)\n",
    "\n",
    "# x = U_[:, 0]\n",
    "# y = U_[:, 1]\n",
    "x, y = U.dot(np.sqrt(Σ))[:, :2].T\n",
    "\n",
    "plt.scatter(x, y)\n",
    "for i in range(len(movies)):\n",
    "    plt.annotate(movies[i], (x[i] + .02, y[i] + .05))\n",
    "A_.shape, U_.shape, U_, movies"
   ]
  },
  {
   "cell_type": "code",
   "execution_count": 343,
   "metadata": {
    "scrolled": false
   },
   "outputs": [
    {
     "data": {
      "text/plain": [
       "(array([-2.09243136, -2.35957   , -1.80809361, -2.03295336, -2.70941367,\n",
       "        -2.23869894]),\n",
       " array([-1.61357121, -1.61985579,  1.84215446,  1.07079875,  0.34136673,\n",
       "         0.3421071 ]))"
      ]
     },
     "execution_count": 343,
     "metadata": {},
     "output_type": "execute_result"
    }
   ],
   "source": [
    "x, y = U.dot(np.sqrt(Σ))[:, :2].T\n",
    "x, y"
   ]
  },
  {
   "cell_type": "code",
   "execution_count": 375,
   "metadata": {
    "scrolled": true
   },
   "outputs": [
    {
     "name": "stderr",
     "output_type": "stream",
     "text": [
      "<ipython-input-375-9663780adb41>:1: DeprecationWarning: elementwise comparison failed; this will raise an error in the future.\n",
      "  (U @ Σ)[:, :2] == (U_.T @ Σ)\n"
     ]
    },
    {
     "data": {
      "text/plain": [
       "(array([[-11.40339327,  -4.33016598,  -2.35236506,  -1.02954401,\n",
       "          -0.3360533 ],\n",
       "        [-15.1539768 ,  -5.12275555,   4.13014646,   0.93450355,\n",
       "           0.07296417]]),\n",
       " array([[-11.40339327, -12.85925315,  -9.85380111, -11.07924833,\n",
       "         -14.76584139, -12.20052658],\n",
       "        [ -5.10288071,  -5.12275555,   5.82576984,   3.38637567,\n",
       "           1.07956418,   1.08190561]]))"
      ]
     },
     "execution_count": 375,
     "metadata": {},
     "output_type": "execute_result"
    }
   ],
   "source": [
    "(U @ Σ)[:, :2] == (U_.T @ Σ)\n",
    "(U_.T @ Σ), (U @ Σ)[:, :2].T"
   ]
  },
  {
   "cell_type": "code",
   "execution_count": 352,
   "metadata": {},
   "outputs": [
    {
     "data": {
      "text/plain": [
       "(array([[-0.44468241, -0.59580846],\n",
       "        [-0.37034048, -0.25324346],\n",
       "        [-0.3904812 ,  0.74421066],\n",
       "        [-0.55718105,  0.15825148],\n",
       "        [-0.4496434 , -0.04457565]]),\n",
       " ['Ben', 'Tom', 'John', 'Fred', 'Jack'])"
      ]
     },
     "execution_count": 352,
     "metadata": {},
     "output_type": "execute_result"
    },
    {
     "data": {
      "image/png": "[encoded data removed]",
      "text/plain": [
       "<Figure size 432x288 with 1 Axes>"
      ]
     },
     "metadata": {
      "needs_background": "light"
     },
     "output_type": "display_data"
    }
   ],
   "source": [
    "plt.figure()\n",
    "plt.title('Users')\n",
    "\n",
    "# plt.axhline(0,color='red') # x = 0\n",
    "# plt.axvline(0,color='red') # y = 0\n",
    "# plt.xlim(-0.8, 0.2)\n",
    "# plt.ylim(-0.8, 0.8)\n",
    "plt.grid()\n",
    "\n",
    "V_ = VT[:2, :]\n",
    "Z_users = V_ @ A.T\n",
    "\n",
    "# x = V_[0, :]\n",
    "# y = V_[1, :]\n",
    "x, y = np.sqrt(Σ).dot(VT)[:2, :]\n",
    "\n",
    "plt.scatter(x, y)\n",
    "for i in range(len(users)):\n",
    "    plt.annotate(users[i], (x[i] + .02, y[i] - .02))\n",
    "V_.T, users"
   ]
  },
  {
   "cell_type": "markdown",
   "metadata": {},
   "source": [
    "__Question 11__: Approximation of the original matrix A using only the first three singular components"
   ]
  },
  {
   "cell_type": "code",
   "execution_count": 353,
   "metadata": {},
   "outputs": [
    {
     "data": {
      "text/plain": [
       "array([[29.70063686,  0.        ,  0.        ,  0.        ,  0.        ],\n",
       "       [ 0.        , 10.00125637,  0.        ,  0.        ,  0.        ],\n",
       "       [ 0.        ,  0.        ,  7.09033394,  0.        ,  0.        ],\n",
       "       [ 0.        ,  0.        ,  0.        ,  0.        ,  0.        ],\n",
       "       [ 0.        ,  0.        ,  0.        ,  0.        ,  0.        ],\n",
       "       [ 0.        ,  0.        ,  0.        ,  0.        ,  0.        ]])"
      ]
     },
     "execution_count": 353,
     "metadata": {},
     "output_type": "execute_result"
    }
   ],
   "source": []
  },
  {
   "cell_type": "code",
   "execution_count": 379,
   "metadata": {},
   "outputs": [
    {
     "name": "stdout",
     "output_type": "stream",
     "text": [
      "For k = 3\n",
      "Euclidean norm: (2.7599446958092893, 2.7599446958092893)\n",
      "Frobenius norm: (2.8415146572082355, 2.841514657208235)\n"
     ]
    }
   ],
   "source": [
    "k = 3\n",
    "Σ_ = np.zeros(A.shape)\n",
    "Σ_[:k, :k] = Σ[:k, :k]\n",
    "Σ_\n",
    "# Reconstruction:\n",
    "A_3 = U @ Σ_ @ VT\n",
    "A_3\n",
    "res_3 = (A_3 - A)\n",
    "print(f'For k = {k}')\n",
    "print(f'Euclidean norm: {np.linalg.norm(res_3, 2), Σ[k, k]}')\n",
    "print(f'Frobenius norm: {np.linalg.norm(res_3, \"fro\"), np.sqrt(np.sum(Σ[k:, k:]**2))}')\n",
    "# frob norm is equal to the trace of R.T @ R\n",
    "# np.trace(res_3.T @ res_3)\n",
    "# np.sum(res_3**2)"
   ]
  },
  {
   "cell_type": "code",
   "execution_count": 378,
   "metadata": {},
   "outputs": [
    {
     "name": "stdout",
     "output_type": "stream",
     "text": [
      "For k = 2\n",
      "Euclidean norm: (7.090333942170118, 7.0903339421701155)\n",
      "Frobenius norm: (7.638523480268874, 7.638523480268869)\n"
     ]
    }
   ],
   "source": [
    "k = 2\n",
    "Σ_ = np.zeros(A.shape)\n",
    "Σ_[:k, :k] = Σ[:k, :k]\n",
    "Σ_\n",
    "# Reconstruction:\n",
    "A_k = U @ Σ_ @ VT\n",
    "A_k\n",
    "res_k = (A_k - A)\n",
    "print(f'For k = {k}')\n",
    "print(f'Euclidean norm: {np.linalg.norm(res_k, 2), Σ[k, k]}')\n",
    "print(f'Frobenius norm: {np.linalg.norm(res_k, \"fro\"), np.sqrt(np.sum(Σ[k:, k:]**2))}')\n",
    "# frob norm is equal to the trace of R.T @ R\n",
    "# np.trace(res_3.T @ res_3)\n",
    "# np.sum(res_3**2)"
   ]
  },
  {
   "cell_type": "markdown",
   "metadata": {},
   "source": [
    "__Add new user__\n",
    "SVD cannot naively handle new users or new items."
   ]
  },
  {
   "cell_type": "code",
   "execution_count": 382,
   "metadata": {},
   "outputs": [
    {
     "data": {
      "text/plain": [
       "array([[ 1. ,  5.5,  5.5,  6. ,  5.5, 10. ]])"
      ]
     },
     "execution_count": 382,
     "metadata": {},
     "output_type": "execute_result"
    }
   ],
   "source": [
    "bob = np.array([[1, np.nan, np.nan, 6, np.nan, 10]], dtype=np.float64) # 2d array such that dimensions match later\n",
    "bob[np.isnan(bob)] = mean_of_known\n",
    "bob"
   ]
  },
  {
   "cell_type": "code",
   "execution_count": 387,
   "metadata": {},
   "outputs": [
    {
     "name": "stdout",
     "output_type": "stream",
     "text": [
      "(6, 6) (6, 6) (6, 6)\n"
     ]
    },
    {
     "data": {
      "text/plain": [
       "Text(0, 0.5, 'The Seriousness Axis')"
      ]
     },
     "execution_count": 387,
     "metadata": {},
     "output_type": "execute_result"
    },
    {
     "data": {
      "image/png": "[encoded data removed]",
      "text/plain": [
       "<Figure size 432x288 with 1 Axes>"
      ]
     },
     "metadata": {
      "needs_background": "light"
     },
     "output_type": "display_data"
    }
   ],
   "source": [
    "k = 2\n",
    "Ab = np.append(A, bob.T, axis=1)\n",
    "Ub, sb, VTb = np.linalg.svd(Ab, full_matrices=True)\n",
    "Σb = np.diag(sb)\n",
    "\n",
    "print(Ub.shape, Σb.shape, VTb.shape)\n",
    "\n",
    "v1v2b = np.sqrt(Σb).dot(VTb)[:k, :]\n",
    "\n",
    "plt.figure()\n",
    "plt.scatter(*v1v2b)\n",
    "for v1, v2, name in zip(*v1v2b, users + ['Bob']):\n",
    "    plt.gca().annotate(name, (v1, v2))\n",
    "plt.xlabel('The Realism Axis')\n",
    "plt.ylabel('The Seriousness Axis')"
   ]
  },
  {
   "cell_type": "code",
   "execution_count": 389,
   "metadata": {},
   "outputs": [
    {
     "name": "stdout",
     "output_type": "stream",
     "text": [
      "Avatar 7.2\n",
      "Titanic 6.6\n",
      "Godfather 6.3\n",
      "Star Wars 6.0\n",
      "Shrek 4.1\n",
      "American Pie 3.4\n"
     ]
    }
   ],
   "source": [
    "# In this case new predictions could be calculated as follows\n",
    "k = 2 # you can check this gives back the original predictions if k == 6\n",
    "U_bob = bob.dot(U[:, :k])\n",
    "bob_ = U[:, :k].dot(U_bob.T)\n",
    "bob_predicted = bob_[:].ravel()\n",
    "for i in reversed(np.argsort(bob_predicted)):\n",
    "    print(movies[i], '{:.2}'.format(bob_predicted[i]))"
   ]
  },
  {
   "cell_type": "code",
   "execution_count": null,
   "metadata": {},
   "outputs": [],
   "source": []
  },
  {
   "cell_type": "code",
   "execution_count": null,
   "metadata": {},
   "outputs": [],
   "source": []
  },
  {
   "cell_type": "code",
   "execution_count": null,
   "metadata": {},
   "outputs": [],
   "source": []
  },
  {
   "cell_type": "code",
   "execution_count": null,
   "metadata": {},
   "outputs": [],
   "source": []
  },
  {
   "cell_type": "code",
   "execution_count": null,
   "metadata": {},
   "outputs": [],
   "source": []
  }
 ],
 "metadata": {
  "kernelspec": {
   "display_name": "Python 3",
   "language": "python",
   "name": "python3"
  },
  "language_info": {
   "codemirror_mode": {
    "name": "ipython",
    "version": 3
   },
   "file_extension": ".py",
   "mimetype": "text/x-python",
   "name": "python",
   "nbconvert_exporter": "python",
   "pygments_lexer": "ipython3",
   "version": "3.8.0"
  }
 },
 "nbformat": 4,
 "nbformat_minor": 4
}
