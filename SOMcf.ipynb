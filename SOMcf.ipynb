{
 "cells": [
  {
   "cell_type": "markdown",
   "metadata": {},
   "source": [
    "# SOM model for CF"
   ]
  },
  {
   "cell_type": "markdown",
   "metadata": {},
   "source": [
    "Links used: \n",
    "\n",
    "https://github.com/fastai/course-v3/blob/master/nbs/dl1/lesson4-collab.ipynb\n",
    "\n",
    "https://docs.fast.ai/tutorial.collab (!)\n",
    "\n",
    "https://kireygroup.github.io/fastsom/ (!!)\n",
    "\n",
    "Code gotten from tutorial:\n",
    "\n",
    "https://medium.com/kirey-group/self-organizing-maps-with-fast-ai-4a03f1c7351"
   ]
  },
  {
   "cell_type": "code",
   "execution_count": 1,
   "metadata": {},
   "outputs": [],
   "source": [
    "import torch\n",
    "import matplotlib\n",
    "import numpy as np\n",
    "import random\n",
    "from fastsom import *\n",
    "from fastai.tabular import *\n",
    "from fastai.basic_train import Learner, Callback\n",
    "from fastai.basic_data import DataBunch"
   ]
  },
  {
   "cell_type": "markdown",
   "metadata": {},
   "source": [
    "TODO: get data\n",
    "-> read data in from csv file (copy from official baseline)\n",
    "-> get DataSet/DataLoader (pytorch)\n",
    "-> get UnsupervisedDataBunch (fastsom/fastai)"
   ]
  },
  {
   "cell_type": "code",
   "execution_count": null,
   "metadata": {},
   "outputs": [],
   "source": []
  },
  {
   "cell_type": "markdown",
   "metadata": {},
   "source": [
    "TODO: Define model\n",
    "-> define SomLearner with data\n",
    "-> set up callbacks and trainers"
   ]
  },
  {
   "cell_type": "code",
   "execution_count": null,
   "metadata": {},
   "outputs": [],
   "source": []
  }
 ],
 "metadata": {
  "interpreter": {
   "hash": "e7370f93d1d0cde622a1f8e1c04877d8463912d04d973331ad4851f04de6915a"
  },
  "kernelspec": {
   "display_name": "Python 3.10.4 64-bit",
   "language": "python",
   "name": "python3"
  },
  "language_info": {
   "codemirror_mode": {
    "name": "ipython",
    "version": 3
   },
   "file_extension": ".py",
   "mimetype": "text/x-python",
   "name": "python",
   "nbconvert_exporter": "python",
   "pygments_lexer": "ipython3",
   "version": "3.10.4"
  },
  "orig_nbformat": 4
 },
 "nbformat": 4,
 "nbformat_minor": 2
}
