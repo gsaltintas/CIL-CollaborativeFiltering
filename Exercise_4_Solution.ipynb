{
 "cells": [
  {
   "cell_type": "code",
   "execution_count": 1,
   "metadata": {
    "id": "1kgkhujbieB5"
   },
   "outputs": [],
   "source": [
    "%matplotlib inline\n",
    "import numpy as np\n",
    "from matplotlib import pyplot as plt\n",
    "import math"
   ]
  },
  {
   "cell_type": "markdown",
   "metadata": {
    "id": "7NAB2mgvieCA"
   },
   "source": [
    "## Perform SVD and interpret"
   ]
  },
  {
   "cell_type": "code",
   "execution_count": 2,
   "metadata": {
    "id": "Vs7sYbUJieCE"
   },
   "outputs": [],
   "source": [
    "movie_names = ['American Pie', 'Shrek', 'Titanic', 'The Godfather', 'Avatar', 'Star Wars']\n",
    "user_names = ['Ben', 'Tom', 'John', 'Fred', 'Jack']\n",
    "\n",
    "data = np.array([\n",
    "    [8, 7, 1, -1, 4],\n",
    "    [9, 7, 2, 5, 6],\n",
    "    [1, 4, 9, -1, 3],\n",
    "    [3, -1, 8, 5, 4],\n",
    "    [-1, 3, -1, 9, 9],\n",
    "    [5, 1, 4, 10, -1]\n",
    "], dtype=np.float64)\n",
    "\n",
    "missing = data == -1\n",
    "known = missing == False"
   ]
  },
  {
   "cell_type": "code",
   "execution_count": 3,
   "metadata": {
    "id": "UkWmzNvZieCG",
    "outputId": "d8a4ea14-e1d4-45d2-b961-6fd8233ea9e7"
   },
   "outputs": [
    {
     "name": "stdout",
     "output_type": "stream",
     "text": [
      "5.5\n"
     ]
    }
   ],
   "source": [
    "# This is from the exercise sheet\n",
    "mean_of_known = 5.5\n",
    "\n",
    "# A more elaborate solution would be to replace with the known data average\n",
    "# mean_of_known = np.mean(data[known])\n",
    "print(mean_of_known)\n",
    "data[missing] = mean_of_known"
   ]
  },
  {
   "cell_type": "code",
   "execution_count": 4,
   "metadata": {
    "id": "oJy2GtG9ieCJ",
    "outputId": "9c5545ec-b46f-44f2-a595-46d7ec5d5369"
   },
   "outputs": [
    {
     "name": "stdout",
     "output_type": "stream",
     "text": [
      "Matrix shapes: (6, 6) (5,) (5, 5)\n"
     ]
    }
   ],
   "source": [
    "U, s, Vt = np.linalg.svd(data, full_matrices=True)\n",
    "\n",
    "print('Matrix shapes:', U.shape, s.shape, Vt.shape)\n",
    "\n",
    "S = np.zeros((6, 5))\n",
    "S[:5, :5] = np.diag(s)\n",
    "\n",
    "# make sure everything is fine\n",
    "assert np.allclose(data, U.dot(S).dot(Vt))"
   ]
  },
  {
   "cell_type": "code",
   "execution_count": 5,
   "metadata": {},
   "outputs": [
    {
     "data": {
      "text/plain": [
       "(5, 5)"
      ]
     },
     "execution_count": 5,
     "metadata": {},
     "output_type": "execute_result"
    }
   ],
   "source": [
    "Vt.shape"
   ]
  },
  {
   "cell_type": "code",
   "execution_count": null,
   "metadata": {
    "id": "7WW0bo7sieCL",
    "outputId": "8cfec6bc-8bec-4e48-b00f-9a677bb9c690"
   },
   "outputs": [
    {
     "data": {
      "text/plain": [
       "Text(0, 0.5, 'The Seriousness Axis')"
      ]
     },
     "execution_count": 5,
     "metadata": {},
     "output_type": "execute_result"
    },
    {
     "data": {
      "image/png": "[encoded data removed]",
      "text/plain": [
       "<Figure size 432x288 with 1 Axes>"
      ]
     },
     "metadata": {
      "needs_background": "light"
     },
     "output_type": "display_data"
    }
   ],
   "source": [
    "# Keep only two values to visualize\n",
    "k = 2\n",
    "\n",
    "# plot representations of movies\n",
    "\n",
    "u1u2 = U.dot(np.sqrt(S))[:, :2].T\n",
    "\n",
    "plt.figure()\n",
    "plt.scatter(*u1u2)\n",
    "for u1, u2, name in zip(*u1u2, movie_names):\n",
    "    plt.gca().annotate(name, (u1, u2))\n",
    "\n",
    "plt.xlabel('The Realism Axis')\n",
    "plt.ylabel('The Seriousness Axis')"
   ]
  },
  {
   "cell_type": "code",
   "execution_count": null,
   "metadata": {
    "id": "sURIbsPhieCM",
    "outputId": "0f2e8975-6689-41a9-ada9-712366473b46"
   },
   "outputs": [
    {
     "data": {
      "text/plain": [
       "Text(0, 0.5, 'The Seriousness Axis')"
      ]
     },
     "execution_count": 6,
     "metadata": {},
     "output_type": "execute_result"
    },
    {
     "data": {
      "image/png": "[encoded data removed]",
      "text/plain": [
       "<Figure size 432x288 with 1 Axes>"
      ]
     },
     "metadata": {
      "needs_background": "light"
     },
     "output_type": "display_data"
    }
   ],
   "source": [
    "# plot representations of users\n",
    "\n",
    "v1v2 = np.sqrt(S).dot(Vt)[:k, :]\n",
    "\n",
    "plt.figure()\n",
    "plt.scatter(*v1v2)\n",
    "for v1, v2, name in zip(*v1v2, user_names):\n",
    "    plt.gca().annotate(name, (v1, v2))\n",
    "plt.xlabel('The Realism Axis')\n",
    "plt.ylabel('The Seriousness Axis')"
   ]
  },
  {
   "cell_type": "code",
   "execution_count": null,
   "metadata": {
    "id": "Bo03QaTtieCO",
    "outputId": "e129632c-d1d9-48b9-d965-e65034f50f67"
   },
   "outputs": [
    {
     "name": "stdout",
     "output_type": "stream",
     "text": [
      "7.090333942170117 7.090333942170116\n",
      "7.638523480268871 7.63852348026887\n"
     ]
    }
   ],
   "source": [
    "k = 2\n",
    "Sk = S.copy()\n",
    "Sk[k:, k:] = 0\n",
    "Ak = U.dot(Sk).dot(Vt)\n",
    "\n",
    "#check the approximation theorems\n",
    "print(np.linalg.norm(data - Ak, 2), S[k, k]) # Euclidean norm\n",
    "print(np.linalg.norm(data - Ak, 'fro'), math.sqrt(np.sum(S[k:, k:]**2))) # Frobenius norm"
   ]
  },
  {
   "cell_type": "markdown",
   "metadata": {
    "id": "9XK-RgCDieCP"
   },
   "source": [
    "## Add new user\n",
    "\n",
    "SVD cannot natively handle new users or new items."
   ]
  },
  {
   "cell_type": "code",
   "execution_count": null,
   "metadata": {
    "id": "Jx_qY1-3ieCQ"
   },
   "outputs": [],
   "source": [
    "bob = np.array([[1, -1, -1, 6, -1, 10]], dtype=np.float64) # 2d array such that dimensions match later\n",
    "bob[bob == -1] = mean_of_known"
   ]
  },
  {
   "cell_type": "code",
   "execution_count": null,
   "metadata": {
    "id": "Vp--1GYiieCR",
    "outputId": "1e7477a7-4691-46d9-d8e0-13d55a6fe482"
   },
   "outputs": [
    {
     "name": "stdout",
     "output_type": "stream",
     "text": [
      "(6, 6) (6, 6) (6, 6)\n"
     ]
    },
    {
     "data": {
      "text/plain": [
       "Text(0, 0.5, 'The Seriousness Axis')"
      ]
     },
     "execution_count": 9,
     "metadata": {},
     "output_type": "execute_result"
    },
    {
     "data": {
      "image/png": "[encoded data removed]",
      "text/plain": [
       "<Figure size 432x288 with 1 Axes>"
      ]
     },
     "metadata": {
      "needs_background": "light"
     },
     "output_type": "display_data"
    }
   ],
   "source": [
    "# a way of doing it: SVD from scratch (evaluating Bob changes the system)\n",
    "k = 2\n",
    "\n",
    "datab = np.append(data, bob.T, 1)\n",
    "Ub, sb, Vtb = np.linalg.svd(datab, full_matrices=True)\n",
    "Sb = np.diag(sb)\n",
    "\n",
    "print(Ub.shape, Sb.shape, Vtb.shape)\n",
    "\n",
    "v1v2b = np.sqrt(Sb).dot(Vtb)[:k, :]\n",
    "\n",
    "plt.figure()\n",
    "plt.scatter(*v1v2b)\n",
    "for v1, v2, name in zip(*v1v2b, user_names + ['Bob']):\n",
    "    plt.gca().annotate(name, (v1, v2))\n",
    "plt.xlabel('The Realism Axis')\n",
    "plt.ylabel('The Seriousness Axis')"
   ]
  },
  {
   "cell_type": "code",
   "execution_count": null,
   "metadata": {
    "id": "I_fCL2xgieCS",
    "outputId": "9b205d22-d7b5-4527-9a1c-662ae531b7c1"
   },
   "outputs": [
    {
     "name": "stdout",
     "output_type": "stream",
     "text": [
      "Star Wars 7.6\n",
      "Avatar 7.0\n",
      "Titanic 6.7\n",
      "The Godfather 6.4\n",
      "Shrek 4.2\n",
      "American Pie 2.3\n"
     ]
    }
   ],
   "source": [
    "# We can now fill in missing ratings for Bob (hint -> Project) \n",
    "Skb = Sb.copy()\n",
    "Skb[k:, k:] = 0\n",
    "\n",
    "Akb = Ub.dot(Skb).dot(Vtb)\n",
    "\n",
    "bob_predicted = Akb[:, -1].ravel()\n",
    "\n",
    "for i in reversed(np.argsort(bob_predicted)):\n",
    "    print(movie_names[i], '{:.2}'.format(bob_predicted[i]))"
   ]
  },
  {
   "cell_type": "code",
   "execution_count": null,
   "metadata": {
    "id": "yquPI3k3ieCT",
    "outputId": "381833a8-f06c-4d5a-f933-06bd2a168e78"
   },
   "outputs": [
    {
     "data": {
      "text/plain": [
       "Text(0, 0.5, 'The Seriousness Axis')"
      ]
     },
     "execution_count": 11,
     "metadata": {},
     "output_type": "execute_result"
    },
    {
     "data": {
      "image/png": "[encoded data removed]",
      "text/plain": [
       "<Figure size 432x288 with 1 Axes>"
      ]
     },
     "metadata": {
      "needs_background": "light"
     },
     "output_type": "display_data"
    }
   ],
   "source": [
    "# alternatively, a less 'correct' solution but one that does not require to recompute the SVD resolves as following\n",
    "# notice we don't necessarily care about the scale but the angles between the vectors\n",
    "k = 2\n",
    "\n",
    "# if we want to keep the scales same as before we have to divide. Keep in mind A^T \\times U = VS\n",
    "v1v2 = (data.T.dot(U)[:, :k] / np.diagonal(np.sqrt(S[:k, :k]))).T\n",
    "U_bob = bob.dot(U)[:, :k] / np.diagonal(np.sqrt(S[:k, :k]))\n",
    "v1v2b = np.append(v1v2, U_bob.T, 1)\n",
    "plt.scatter(*v1v2b)\n",
    "for v1, v2, name in zip(*v1v2b, user_names + ['Bob']):\n",
    "    plt.gca().annotate(name, (v1, v2))\n",
    "    \n",
    "plt.xlabel('The Realism Axis')\n",
    "plt.ylabel('The Seriousness Axis')"
   ]
  },
  {
   "cell_type": "code",
   "execution_count": null,
   "metadata": {
    "id": "aAGw4SBmieCU",
    "outputId": "f34588f1-dbd8-42dc-d419-9b99977b2862"
   },
   "outputs": [
    {
     "name": "stdout",
     "output_type": "stream",
     "text": [
      "Avatar 7.2\n",
      "Titanic 6.6\n",
      "The Godfather 6.3\n",
      "Star Wars 6.0\n",
      "Shrek 4.1\n",
      "American Pie 3.4\n"
     ]
    }
   ],
   "source": [
    "# In this case new predictions could be calculated as follows\n",
    "k = 2 # you can check this gives back the original predictions if k == 6\n",
    "U_bob = bob.dot(U[:, :k])\n",
    "bob_ = U[:, :k].dot(U_bob.T)\n",
    "bob_predicted = bob_[:].ravel()\n",
    "for i in reversed(np.argsort(bob_predicted)):\n",
    "    print(movie_names[i], '{:.2}'.format(bob_predicted[i]))"
   ]
  },
  {
   "cell_type": "code",
   "execution_count": null,
   "metadata": {
    "id": "07LfUeO3ieCW"
   },
   "outputs": [],
   "source": []
  }
 ],
 "metadata": {
  "colab": {
   "name": "Exercise_3_Solution.ipynb",
   "provenance": []
  },
  "kernelspec": {
   "display_name": "Python 3",
   "language": "python",
   "name": "python3"
  },
  "language_info": {
   "codemirror_mode": {
    "name": "ipython",
    "version": 3
   },
   "file_extension": ".py",
   "mimetype": "text/x-python",
   "name": "python",
   "nbconvert_exporter": "python",
   "pygments_lexer": "ipython3",
   "version": "3.8.0"
  }
 },
 "nbformat": 4,
 "nbformat_minor": 1
}
