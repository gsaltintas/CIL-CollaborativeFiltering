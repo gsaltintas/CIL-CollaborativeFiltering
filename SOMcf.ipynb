{
 "cells": [
  {
   "cell_type": "markdown",
   "metadata": {},
   "source": [
    "# SOM for CF"
   ]
  },
  {
   "cell_type": "markdown",
   "metadata": {},
   "source": [
    "SOM code from following repo:\n",
    "\n",
    "https://github.com/giannisnik/som\n",
    "\n",
    "https://github.com/Dotori-HJ/SelfOrganizingMap-SOM\n"
   ]
  },
  {
   "cell_type": "code",
   "execution_count": 1,
   "metadata": {},
   "outputs": [],
   "source": [
    "import torch\n",
    "import torch.nn as nn\n",
    "from torchvision.utils import save_image\n",
    "\n",
    "import os\n",
    "import time\n",
    "import torch\n",
    "import argparse\n",
    "import numpy as np\n",
    "import pandas as pd\n",
    "import matplotlib.pyplot as plt\n",
    "import torchvision.datasets as datasets\n",
    "import torchvision.transforms as transforms\n",
    "from torch.utils.data.dataloader import DataLoader\n",
    "from torch.utils.data import DataLoader, TensorDataset, SequentialSampler\n",
    "\n",
    "from sklearn.model_selection import train_test_split\n",
    "\n",
    "import torch.nn as nn\n",
    "from torch.autograd import Variable"
   ]
  },
  {
   "cell_type": "markdown",
   "metadata": {},
   "source": [
    "Define SOM class"
   ]
  },
  {
   "cell_type": "code",
   "execution_count": 2,
   "metadata": {},
   "outputs": [],
   "source": [
    "\"\"\"\n",
    "Much of the code is modified from:\n",
    "- https://codesachin.wordpress.com/2015/11/28/self-organizing-maps-with-googles-tensorflow/\n",
    "\"\"\"\n",
    "\n",
    "class SOM(nn.Module):\n",
    "    \"\"\"\n",
    "    2-D Self-Organizing Map with Gaussian Neighbourhood function\n",
    "    and linearly decreasing learning rate.\n",
    "    \"\"\"\n",
    "    def __init__(self, m, n, dim, niter, alpha=None, sigma=None):\n",
    "        super(SOM, self).__init__()\n",
    "        self.m = m\n",
    "        self.n = n\n",
    "        self.dim = dim\n",
    "        self.niter = niter\n",
    "        if alpha is None:\n",
    "            self.alpha = 0.3\n",
    "        else:\n",
    "            self.alpha = float(alpha)\n",
    "        if sigma is None:\n",
    "            self.sigma = max(m, n) / 2.0\n",
    "        else:\n",
    "            self.sigma = float(sigma)\n",
    "\n",
    "        self.weights = torch.randn(m*n, dim)\n",
    "        self.locations = torch.LongTensor(np.array(list(self.neuron_locations())))\n",
    "        self.pdist = nn.PairwiseDistance(p=2)\n",
    "\n",
    "    def get_weights(self):\n",
    "        return self.weights\n",
    "\n",
    "    def get_locations(self):\n",
    "        return self.locations\n",
    "\n",
    "    def neuron_locations(self):\n",
    "        for i in range(self.m):\n",
    "            for j in range(self.n):\n",
    "                yield np.array([i, j])\n",
    "\n",
    "    def map_vects(self, input_vects):\n",
    "        to_return = []\n",
    "        for vect in input_vects:\n",
    "            min_index = min([i for i in range(len(self.weights))],\n",
    "                            key=lambda x: np.linalg.norm(vect-self.weights[x]))\n",
    "            to_return.append(self.locations[min_index])\n",
    "\n",
    "        return to_return\n",
    "\n",
    "    def forward(self, x, it):\n",
    "        dists = self.pdist(torch.stack([x for i in range(self.m*self.n)]), self.weights)\n",
    "        _, bmu_index = torch.min(dists, 0)\n",
    "        bmu_loc = self.locations[bmu_index,:]\n",
    "        bmu_loc = bmu_loc.squeeze()\n",
    "        \n",
    "        learning_rate_op = 1.0 - it/self.niter\n",
    "        alpha_op = self.alpha * learning_rate_op\n",
    "        sigma_op = self.sigma * learning_rate_op\n",
    "\n",
    "        bmu_distance_squares = torch.sum(torch.pow(self.locations.float() - torch.stack([bmu_loc for i in range(self.m*self.n)]).float(), 2), 1)\n",
    "        \n",
    "        neighbourhood_func = torch.exp(torch.neg(torch.div(bmu_distance_squares, sigma_op**2)))\n",
    "        \n",
    "        learning_rate_op = alpha_op * neighbourhood_func\n",
    "\n",
    "        learning_rate_multiplier = torch.stack([learning_rate_op[i:i+1].repeat(self.dim) for i in range(self.m*self.n)])\n",
    "        delta = torch.mul(learning_rate_multiplier, (torch.stack([x for i in range(self.m*self.n)]) - self.weights))                                         \n",
    "        new_weights = torch.add(self.weights, delta)\n",
    "        self.weights = new_weights"
   ]
  },
  {
   "cell_type": "markdown",
   "metadata": {},
   "source": [
    "Set up directory paths for data, results, models; set up parameters and hyperparameters for the network"
   ]
  },
  {
   "cell_type": "code",
   "execution_count": 14,
   "metadata": {},
   "outputs": [],
   "source": [
    "device = torch.device('cuda:0' if torch.cuda.is_available() else 'cpu')\n",
    "\n",
    "# Hyper parameters\n",
    "DATA_PATH = './data/data_train.csv'\n",
    "RES_DIR = './results/som/'\n",
    "MODEL_DIR = './models/som/'\n",
    "\n",
    "\n",
    "batch_size = 64\n",
    "total_epoch = 1000\n",
    "row = 10000\n",
    "col = 1000\n",
    "train = True\n",
    "load = False\n",
    "n_iter = 100"
   ]
  },
  {
   "cell_type": "markdown",
   "metadata": {},
   "source": [
    "Get data and set up dataloader (code from official baseline)"
   ]
  },
  {
   "cell_type": "code",
   "execution_count": 4,
   "metadata": {},
   "outputs": [],
   "source": [
    "#official baseline code\n",
    "\n",
    "data_pd = pd.read_csv(DATA_PATH)\n",
    "\n",
    "# Split the dataset into train and test\n",
    "\n",
    "train_size = 0.9\n",
    "\n",
    "train_pd, test_pd = train_test_split(data_pd, train_size=train_size, random_state=42)\n",
    "\n",
    "def extract_users_items_predictions(data_pd):\n",
    "    users, movies = \\\n",
    "        [np.squeeze(arr) for arr in np.split(data_pd.Id.str.extract('r(\\d+)_c(\\d+)').values.astype(int) - 1, 2, axis=-1)]\n",
    "    predictions = data_pd.Prediction.values\n",
    "    return users, movies, predictions\n",
    "\n",
    "train_users, train_movies, train_predictions = extract_users_items_predictions(train_pd)\n",
    "\n",
    "# also create full matrix of observed values\n",
    "data = np.full((row, col), np.mean(train_pd.Prediction.values))\n",
    "mask = np.zeros((row, col)) # 0 -> unobserved value, 1->observed value\n",
    "\n",
    "for user, movie, pred in zip(train_users, train_movies, train_predictions):\n",
    "    data[user - 1][movie - 1] = pred\n",
    "    mask[user - 1][movie - 1] = 1\n",
    "\n",
    "\n",
    "#get test data\n",
    "\n",
    "test_users, test_movies, test_predictions = extract_users_items_predictions(test_pd)"
   ]
  },
  {
   "cell_type": "code",
   "execution_count": 5,
   "metadata": {},
   "outputs": [],
   "source": [
    "#official baseline code\n",
    "# Build Dataloaders\n",
    "data_torch = torch.tensor(data, device=device).float()\n",
    "mask_torch = torch.tensor(mask, device=device)\n",
    "\n",
    "dataloader = DataLoader(\n",
    "    TensorDataset(data_torch, mask_torch),\n",
    "    batch_size=batch_size)"
   ]
  },
  {
   "cell_type": "code",
   "execution_count": 9,
   "metadata": {},
   "outputs": [
    {
     "name": "stdout",
     "output_type": "stream",
     "text": [
      "<class 'torch.Tensor'>\n"
     ]
    }
   ],
   "source": [
    "print(type(data_torch))"
   ]
  },
  {
   "cell_type": "markdown",
   "metadata": {},
   "source": [
    "Build model or load it"
   ]
  },
  {
   "cell_type": "code",
   "execution_count": 6,
   "metadata": {},
   "outputs": [
    {
     "name": "stdout",
     "output_type": "stream",
     "text": [
      "Building Model...\n",
      "Create Model!\n"
     ]
    }
   ],
   "source": [
    "print('Building Model...')\n",
    "\n",
    "m=10\n",
    "n=10\n",
    "\n",
    "som = SOM(m=m, n=n, dim=1000, niter=n_iter, alpha=None, sigma=None)\n",
    "\n",
    "if (load and os.path.exists('%s/som.pth' % MODEL_DIR)):\n",
    "\tsom.load_state_dict(torch.load('%s/som.pth' % MODEL_DIR))\n",
    "\tprint('Model Loaded!')\n",
    "else:\n",
    "\tprint('Create Model!')\n",
    "\n",
    "som = som.to(device)"
   ]
  },
  {
   "cell_type": "markdown",
   "metadata": {},
   "source": [
    "Training loop "
   ]
  },
  {
   "cell_type": "code",
   "execution_count": 18,
   "metadata": {},
   "outputs": [],
   "source": [
    "som = som.cuda()"
   ]
  },
  {
   "cell_type": "code",
   "execution_count": 21,
   "metadata": {},
   "outputs": [
    {
     "name": "stdout",
     "output_type": "stream",
     "text": [
      "Iter 0\n",
      "Saving checkpoint\n",
      "Iter 1\n",
      "Iter 2\n",
      "Iter 3\n",
      "Iter 4\n",
      "Iter 5\n",
      "Saving checkpoint\n",
      "Iter 6\n",
      "Iter 7\n",
      "Iter 8\n",
      "Iter 9\n",
      "Iter 10\n",
      "Saving checkpoint\n",
      "Iter 11\n",
      "Iter 12\n",
      "Iter 13\n",
      "Iter 14\n",
      "Iter 15\n",
      "Saving checkpoint\n",
      "Iter 16\n",
      "Iter 17\n",
      "Iter 18\n",
      "Iter 19\n",
      "Iter 20\n",
      "Saving checkpoint\n",
      "Iter 21\n",
      "Iter 22\n",
      "Iter 23\n",
      "Iter 24\n",
      "Iter 25\n",
      "Saving checkpoint\n",
      "Iter 26\n",
      "Iter 27\n",
      "Iter 28\n",
      "Iter 29\n",
      "Iter 30\n",
      "Saving checkpoint\n",
      "Iter 31\n",
      "Iter 32\n",
      "Iter 33\n",
      "Iter 34\n",
      "Iter 35\n",
      "Saving checkpoint\n",
      "Iter 36\n",
      "Iter 37\n",
      "Iter 38\n",
      "Iter 39\n",
      "Iter 40\n",
      "Saving checkpoint\n",
      "Iter 41\n",
      "Iter 42\n",
      "Iter 43\n",
      "Iter 44\n",
      "Iter 45\n",
      "Saving checkpoint\n",
      "Iter 46\n",
      "Iter 47\n",
      "Iter 48\n",
      "Iter 49\n",
      "Iter 50\n",
      "Saving checkpoint\n",
      "Iter 51\n",
      "Iter 52\n",
      "Iter 53\n",
      "Iter 54\n",
      "Iter 55\n",
      "Saving checkpoint\n",
      "Iter 56\n",
      "Iter 57\n",
      "Iter 58\n",
      "Iter 59\n",
      "Iter 60\n",
      "Saving checkpoint\n",
      "Iter 61\n",
      "Iter 62\n",
      "Iter 63\n",
      "Iter 64\n",
      "Iter 65\n",
      "Saving checkpoint\n",
      "Iter 66\n",
      "Iter 67\n",
      "Iter 68\n",
      "Iter 69\n",
      "Iter 70\n",
      "Saving checkpoint\n",
      "Iter 71\n",
      "Iter 72\n",
      "Iter 73\n",
      "Iter 74\n",
      "Iter 75\n",
      "Saving checkpoint\n",
      "Iter 76\n",
      "Iter 77\n",
      "Iter 78\n",
      "Iter 79\n",
      "Iter 80\n",
      "Saving checkpoint\n",
      "Iter 81\n",
      "Iter 82\n",
      "Iter 83\n",
      "Iter 84\n",
      "Iter 85\n",
      "Saving checkpoint\n",
      "Iter 86\n",
      "Iter 87\n",
      "Iter 88\n",
      "Iter 89\n",
      "Iter 90\n",
      "Saving checkpoint\n",
      "Iter 91\n",
      "Iter 92\n",
      "Iter 93\n",
      "Iter 94\n",
      "Iter 95\n",
      "Saving checkpoint\n",
      "Iter 96\n",
      "Iter 97\n",
      "Iter 98\n",
      "Iter 99\n"
     ]
    }
   ],
   "source": [
    "for iter_no in range(n_iter):\n",
    "    print(\"Iter \" + str(iter_no))\n",
    "    #Train with each vector one by one\n",
    "    for i in range(len(data)):\n",
    "        #print(\"Iter \" + str(i))\n",
    "        data_tens = torch.tensor(data[i])\n",
    "        som(data_tens, iter_no)\n",
    "\n",
    "    if iter_no % 5 == 0:\n",
    "        # save\n",
    "        print(\"Saving checkpoint\")\n",
    "        torch.save(som.state_dict(), '%s/som.pth' % MODEL_DIR)\n"
   ]
  },
  {
   "cell_type": "code",
   "execution_count": 22,
   "metadata": {},
   "outputs": [
    {
     "ename": "TypeError",
     "evalue": "Invalid shape (10, 10, 1000) for image data",
     "output_type": "error",
     "traceback": [
      "\u001b[0;31m---------------------------------------------------------------------------\u001b[0m",
      "\u001b[0;31mTypeError\u001b[0m                                 Traceback (most recent call last)",
      "\u001b[1;32m/home/flavia/Documents/ETH/1.MSc Semester/cil-project/SOM copy.ipynb Cell 17'\u001b[0m in \u001b[0;36m<cell line: 17>\u001b[0;34m()\u001b[0m\n\u001b[1;32m     <a href='vscode-notebook-cell:/home/flavia/Documents/ETH/1.MSc%20Semester/cil-project/SOM%20copy.ipynb#ch0000017?line=13'>14</a>\u001b[0m \u001b[39m#Plot\u001b[39;00m\n\u001b[1;32m     <a href='vscode-notebook-cell:/home/flavia/Documents/ETH/1.MSc%20Semester/cil-project/SOM%20copy.ipynb#ch0000017?line=14'>15</a>\u001b[0m label_groups \u001b[39m=\u001b[39m [\u001b[39m'\u001b[39m\u001b[39m1\u001b[39m\u001b[39m'\u001b[39m,\u001b[39m'\u001b[39m\u001b[39m2\u001b[39m\u001b[39m'\u001b[39m,\u001b[39m'\u001b[39m\u001b[39m3\u001b[39m\u001b[39m'\u001b[39m,\u001b[39m'\u001b[39m\u001b[39m4\u001b[39m\u001b[39m'\u001b[39m,\u001b[39m'\u001b[39m\u001b[39m5\u001b[39m\u001b[39m'\u001b[39m,\u001b[39m'\u001b[39m\u001b[39m6\u001b[39m\u001b[39m'\u001b[39m,\u001b[39m'\u001b[39m\u001b[39m7\u001b[39m\u001b[39m'\u001b[39m,\u001b[39m'\u001b[39m\u001b[39m8\u001b[39m\u001b[39m'\u001b[39m,\u001b[39m'\u001b[39m\u001b[39m9\u001b[39m\u001b[39m'\u001b[39m,\u001b[39m'\u001b[39m\u001b[39m10\u001b[39m\u001b[39m'\u001b[39m]\n\u001b[0;32m---> <a href='vscode-notebook-cell:/home/flavia/Documents/ETH/1.MSc%20Semester/cil-project/SOM%20copy.ipynb#ch0000017?line=16'>17</a>\u001b[0m plt\u001b[39m.\u001b[39;49mimshow(image_grid)\n\u001b[1;32m     <a href='vscode-notebook-cell:/home/flavia/Documents/ETH/1.MSc%20Semester/cil-project/SOM%20copy.ipynb#ch0000017?line=17'>18</a>\u001b[0m plt\u001b[39m.\u001b[39mtitle(\u001b[39m'\u001b[39m\u001b[39mSOM\u001b[39m\u001b[39m'\u001b[39m)\n\u001b[1;32m     <a href='vscode-notebook-cell:/home/flavia/Documents/ETH/1.MSc%20Semester/cil-project/SOM%20copy.ipynb#ch0000017?line=18'>19</a>\u001b[0m \u001b[39mfor\u001b[39;00m i, m \u001b[39min\u001b[39;00m \u001b[39menumerate\u001b[39m(mapped):\n",
      "File \u001b[0;32m~/.local/lib/python3.10/site-packages/matplotlib/_api/deprecation.py:456\u001b[0m, in \u001b[0;36mmake_keyword_only.<locals>.wrapper\u001b[0;34m(*args, **kwargs)\u001b[0m\n\u001b[1;32m    <a href='file:///home/flavia/.local/lib/python3.10/site-packages/matplotlib/_api/deprecation.py?line=449'>450</a>\u001b[0m \u001b[39mif\u001b[39;00m \u001b[39mlen\u001b[39m(args) \u001b[39m>\u001b[39m name_idx:\n\u001b[1;32m    <a href='file:///home/flavia/.local/lib/python3.10/site-packages/matplotlib/_api/deprecation.py?line=450'>451</a>\u001b[0m     warn_deprecated(\n\u001b[1;32m    <a href='file:///home/flavia/.local/lib/python3.10/site-packages/matplotlib/_api/deprecation.py?line=451'>452</a>\u001b[0m         since, message\u001b[39m=\u001b[39m\u001b[39m\"\u001b[39m\u001b[39mPassing the \u001b[39m\u001b[39m%(name)s\u001b[39;00m\u001b[39m \u001b[39m\u001b[39m%(obj_type)s\u001b[39;00m\u001b[39m \u001b[39m\u001b[39m\"\u001b[39m\n\u001b[1;32m    <a href='file:///home/flavia/.local/lib/python3.10/site-packages/matplotlib/_api/deprecation.py?line=452'>453</a>\u001b[0m         \u001b[39m\"\u001b[39m\u001b[39mpositionally is deprecated since Matplotlib \u001b[39m\u001b[39m%(since)s\u001b[39;00m\u001b[39m; the \u001b[39m\u001b[39m\"\u001b[39m\n\u001b[1;32m    <a href='file:///home/flavia/.local/lib/python3.10/site-packages/matplotlib/_api/deprecation.py?line=453'>454</a>\u001b[0m         \u001b[39m\"\u001b[39m\u001b[39mparameter will become keyword-only \u001b[39m\u001b[39m%(removal)s\u001b[39;00m\u001b[39m.\u001b[39m\u001b[39m\"\u001b[39m,\n\u001b[1;32m    <a href='file:///home/flavia/.local/lib/python3.10/site-packages/matplotlib/_api/deprecation.py?line=454'>455</a>\u001b[0m         name\u001b[39m=\u001b[39mname, obj_type\u001b[39m=\u001b[39m\u001b[39mf\u001b[39m\u001b[39m\"\u001b[39m\u001b[39mparameter of \u001b[39m\u001b[39m{\u001b[39;00mfunc\u001b[39m.\u001b[39m\u001b[39m__name__\u001b[39m\u001b[39m}\u001b[39;00m\u001b[39m()\u001b[39m\u001b[39m\"\u001b[39m)\n\u001b[0;32m--> <a href='file:///home/flavia/.local/lib/python3.10/site-packages/matplotlib/_api/deprecation.py?line=455'>456</a>\u001b[0m \u001b[39mreturn\u001b[39;00m func(\u001b[39m*\u001b[39;49margs, \u001b[39m*\u001b[39;49m\u001b[39m*\u001b[39;49mkwargs)\n",
      "File \u001b[0;32m~/.local/lib/python3.10/site-packages/matplotlib/pyplot.py:2640\u001b[0m, in \u001b[0;36mimshow\u001b[0;34m(X, cmap, norm, aspect, interpolation, alpha, vmin, vmax, origin, extent, interpolation_stage, filternorm, filterrad, resample, url, data, **kwargs)\u001b[0m\n\u001b[1;32m   <a href='file:///home/flavia/.local/lib/python3.10/site-packages/matplotlib/pyplot.py?line=2633'>2634</a>\u001b[0m \u001b[39m@_copy_docstring_and_deprecators\u001b[39m(Axes\u001b[39m.\u001b[39mimshow)\n\u001b[1;32m   <a href='file:///home/flavia/.local/lib/python3.10/site-packages/matplotlib/pyplot.py?line=2634'>2635</a>\u001b[0m \u001b[39mdef\u001b[39;00m \u001b[39mimshow\u001b[39m(\n\u001b[1;32m   <a href='file:///home/flavia/.local/lib/python3.10/site-packages/matplotlib/pyplot.py?line=2635'>2636</a>\u001b[0m         X, cmap\u001b[39m=\u001b[39m\u001b[39mNone\u001b[39;00m, norm\u001b[39m=\u001b[39m\u001b[39mNone\u001b[39;00m, aspect\u001b[39m=\u001b[39m\u001b[39mNone\u001b[39;00m, interpolation\u001b[39m=\u001b[39m\u001b[39mNone\u001b[39;00m,\n\u001b[1;32m   <a href='file:///home/flavia/.local/lib/python3.10/site-packages/matplotlib/pyplot.py?line=2636'>2637</a>\u001b[0m         alpha\u001b[39m=\u001b[39m\u001b[39mNone\u001b[39;00m, vmin\u001b[39m=\u001b[39m\u001b[39mNone\u001b[39;00m, vmax\u001b[39m=\u001b[39m\u001b[39mNone\u001b[39;00m, origin\u001b[39m=\u001b[39m\u001b[39mNone\u001b[39;00m, extent\u001b[39m=\u001b[39m\u001b[39mNone\u001b[39;00m, \u001b[39m*\u001b[39m,\n\u001b[1;32m   <a href='file:///home/flavia/.local/lib/python3.10/site-packages/matplotlib/pyplot.py?line=2637'>2638</a>\u001b[0m         interpolation_stage\u001b[39m=\u001b[39m\u001b[39mNone\u001b[39;00m, filternorm\u001b[39m=\u001b[39m\u001b[39mTrue\u001b[39;00m, filterrad\u001b[39m=\u001b[39m\u001b[39m4.0\u001b[39m,\n\u001b[1;32m   <a href='file:///home/flavia/.local/lib/python3.10/site-packages/matplotlib/pyplot.py?line=2638'>2639</a>\u001b[0m         resample\u001b[39m=\u001b[39m\u001b[39mNone\u001b[39;00m, url\u001b[39m=\u001b[39m\u001b[39mNone\u001b[39;00m, data\u001b[39m=\u001b[39m\u001b[39mNone\u001b[39;00m, \u001b[39m*\u001b[39m\u001b[39m*\u001b[39mkwargs):\n\u001b[0;32m-> <a href='file:///home/flavia/.local/lib/python3.10/site-packages/matplotlib/pyplot.py?line=2639'>2640</a>\u001b[0m     __ret \u001b[39m=\u001b[39m gca()\u001b[39m.\u001b[39;49mimshow(\n\u001b[1;32m   <a href='file:///home/flavia/.local/lib/python3.10/site-packages/matplotlib/pyplot.py?line=2640'>2641</a>\u001b[0m         X, cmap\u001b[39m=\u001b[39;49mcmap, norm\u001b[39m=\u001b[39;49mnorm, aspect\u001b[39m=\u001b[39;49maspect,\n\u001b[1;32m   <a href='file:///home/flavia/.local/lib/python3.10/site-packages/matplotlib/pyplot.py?line=2641'>2642</a>\u001b[0m         interpolation\u001b[39m=\u001b[39;49minterpolation, alpha\u001b[39m=\u001b[39;49malpha, vmin\u001b[39m=\u001b[39;49mvmin,\n\u001b[1;32m   <a href='file:///home/flavia/.local/lib/python3.10/site-packages/matplotlib/pyplot.py?line=2642'>2643</a>\u001b[0m         vmax\u001b[39m=\u001b[39;49mvmax, origin\u001b[39m=\u001b[39;49morigin, extent\u001b[39m=\u001b[39;49mextent,\n\u001b[1;32m   <a href='file:///home/flavia/.local/lib/python3.10/site-packages/matplotlib/pyplot.py?line=2643'>2644</a>\u001b[0m         interpolation_stage\u001b[39m=\u001b[39;49minterpolation_stage,\n\u001b[1;32m   <a href='file:///home/flavia/.local/lib/python3.10/site-packages/matplotlib/pyplot.py?line=2644'>2645</a>\u001b[0m         filternorm\u001b[39m=\u001b[39;49mfilternorm, filterrad\u001b[39m=\u001b[39;49mfilterrad, resample\u001b[39m=\u001b[39;49mresample,\n\u001b[1;32m   <a href='file:///home/flavia/.local/lib/python3.10/site-packages/matplotlib/pyplot.py?line=2645'>2646</a>\u001b[0m         url\u001b[39m=\u001b[39;49murl, \u001b[39m*\u001b[39;49m\u001b[39m*\u001b[39;49m({\u001b[39m\"\u001b[39;49m\u001b[39mdata\u001b[39;49m\u001b[39m\"\u001b[39;49m: data} \u001b[39mif\u001b[39;49;00m data \u001b[39mis\u001b[39;49;00m \u001b[39mnot\u001b[39;49;00m \u001b[39mNone\u001b[39;49;00m \u001b[39melse\u001b[39;49;00m {}),\n\u001b[1;32m   <a href='file:///home/flavia/.local/lib/python3.10/site-packages/matplotlib/pyplot.py?line=2646'>2647</a>\u001b[0m         \u001b[39m*\u001b[39;49m\u001b[39m*\u001b[39;49mkwargs)\n\u001b[1;32m   <a href='file:///home/flavia/.local/lib/python3.10/site-packages/matplotlib/pyplot.py?line=2647'>2648</a>\u001b[0m     sci(__ret)\n\u001b[1;32m   <a href='file:///home/flavia/.local/lib/python3.10/site-packages/matplotlib/pyplot.py?line=2648'>2649</a>\u001b[0m     \u001b[39mreturn\u001b[39;00m __ret\n",
      "File \u001b[0;32m~/.local/lib/python3.10/site-packages/matplotlib/_api/deprecation.py:456\u001b[0m, in \u001b[0;36mmake_keyword_only.<locals>.wrapper\u001b[0;34m(*args, **kwargs)\u001b[0m\n\u001b[1;32m    <a href='file:///home/flavia/.local/lib/python3.10/site-packages/matplotlib/_api/deprecation.py?line=449'>450</a>\u001b[0m \u001b[39mif\u001b[39;00m \u001b[39mlen\u001b[39m(args) \u001b[39m>\u001b[39m name_idx:\n\u001b[1;32m    <a href='file:///home/flavia/.local/lib/python3.10/site-packages/matplotlib/_api/deprecation.py?line=450'>451</a>\u001b[0m     warn_deprecated(\n\u001b[1;32m    <a href='file:///home/flavia/.local/lib/python3.10/site-packages/matplotlib/_api/deprecation.py?line=451'>452</a>\u001b[0m         since, message\u001b[39m=\u001b[39m\u001b[39m\"\u001b[39m\u001b[39mPassing the \u001b[39m\u001b[39m%(name)s\u001b[39;00m\u001b[39m \u001b[39m\u001b[39m%(obj_type)s\u001b[39;00m\u001b[39m \u001b[39m\u001b[39m\"\u001b[39m\n\u001b[1;32m    <a href='file:///home/flavia/.local/lib/python3.10/site-packages/matplotlib/_api/deprecation.py?line=452'>453</a>\u001b[0m         \u001b[39m\"\u001b[39m\u001b[39mpositionally is deprecated since Matplotlib \u001b[39m\u001b[39m%(since)s\u001b[39;00m\u001b[39m; the \u001b[39m\u001b[39m\"\u001b[39m\n\u001b[1;32m    <a href='file:///home/flavia/.local/lib/python3.10/site-packages/matplotlib/_api/deprecation.py?line=453'>454</a>\u001b[0m         \u001b[39m\"\u001b[39m\u001b[39mparameter will become keyword-only \u001b[39m\u001b[39m%(removal)s\u001b[39;00m\u001b[39m.\u001b[39m\u001b[39m\"\u001b[39m,\n\u001b[1;32m    <a href='file:///home/flavia/.local/lib/python3.10/site-packages/matplotlib/_api/deprecation.py?line=454'>455</a>\u001b[0m         name\u001b[39m=\u001b[39mname, obj_type\u001b[39m=\u001b[39m\u001b[39mf\u001b[39m\u001b[39m\"\u001b[39m\u001b[39mparameter of \u001b[39m\u001b[39m{\u001b[39;00mfunc\u001b[39m.\u001b[39m\u001b[39m__name__\u001b[39m\u001b[39m}\u001b[39;00m\u001b[39m()\u001b[39m\u001b[39m\"\u001b[39m)\n\u001b[0;32m--> <a href='file:///home/flavia/.local/lib/python3.10/site-packages/matplotlib/_api/deprecation.py?line=455'>456</a>\u001b[0m \u001b[39mreturn\u001b[39;00m func(\u001b[39m*\u001b[39;49margs, \u001b[39m*\u001b[39;49m\u001b[39m*\u001b[39;49mkwargs)\n",
      "File \u001b[0;32m~/.local/lib/python3.10/site-packages/matplotlib/__init__.py:1412\u001b[0m, in \u001b[0;36m_preprocess_data.<locals>.inner\u001b[0;34m(ax, data, *args, **kwargs)\u001b[0m\n\u001b[1;32m   <a href='file:///home/flavia/.local/lib/python3.10/site-packages/matplotlib/__init__.py?line=1408'>1409</a>\u001b[0m \u001b[39m@functools\u001b[39m\u001b[39m.\u001b[39mwraps(func)\n\u001b[1;32m   <a href='file:///home/flavia/.local/lib/python3.10/site-packages/matplotlib/__init__.py?line=1409'>1410</a>\u001b[0m \u001b[39mdef\u001b[39;00m \u001b[39minner\u001b[39m(ax, \u001b[39m*\u001b[39margs, data\u001b[39m=\u001b[39m\u001b[39mNone\u001b[39;00m, \u001b[39m*\u001b[39m\u001b[39m*\u001b[39mkwargs):\n\u001b[1;32m   <a href='file:///home/flavia/.local/lib/python3.10/site-packages/matplotlib/__init__.py?line=1410'>1411</a>\u001b[0m     \u001b[39mif\u001b[39;00m data \u001b[39mis\u001b[39;00m \u001b[39mNone\u001b[39;00m:\n\u001b[0;32m-> <a href='file:///home/flavia/.local/lib/python3.10/site-packages/matplotlib/__init__.py?line=1411'>1412</a>\u001b[0m         \u001b[39mreturn\u001b[39;00m func(ax, \u001b[39m*\u001b[39;49m\u001b[39mmap\u001b[39;49m(sanitize_sequence, args), \u001b[39m*\u001b[39;49m\u001b[39m*\u001b[39;49mkwargs)\n\u001b[1;32m   <a href='file:///home/flavia/.local/lib/python3.10/site-packages/matplotlib/__init__.py?line=1413'>1414</a>\u001b[0m     bound \u001b[39m=\u001b[39m new_sig\u001b[39m.\u001b[39mbind(ax, \u001b[39m*\u001b[39margs, \u001b[39m*\u001b[39m\u001b[39m*\u001b[39mkwargs)\n\u001b[1;32m   <a href='file:///home/flavia/.local/lib/python3.10/site-packages/matplotlib/__init__.py?line=1414'>1415</a>\u001b[0m     auto_label \u001b[39m=\u001b[39m (bound\u001b[39m.\u001b[39marguments\u001b[39m.\u001b[39mget(label_namer)\n\u001b[1;32m   <a href='file:///home/flavia/.local/lib/python3.10/site-packages/matplotlib/__init__.py?line=1415'>1416</a>\u001b[0m                   \u001b[39mor\u001b[39;00m bound\u001b[39m.\u001b[39mkwargs\u001b[39m.\u001b[39mget(label_namer))\n",
      "File \u001b[0;32m~/.local/lib/python3.10/site-packages/matplotlib/axes/_axes.py:5488\u001b[0m, in \u001b[0;36mAxes.imshow\u001b[0;34m(self, X, cmap, norm, aspect, interpolation, alpha, vmin, vmax, origin, extent, interpolation_stage, filternorm, filterrad, resample, url, **kwargs)\u001b[0m\n\u001b[1;32m   <a href='file:///home/flavia/.local/lib/python3.10/site-packages/matplotlib/axes/_axes.py?line=5480'>5481</a>\u001b[0m \u001b[39mself\u001b[39m\u001b[39m.\u001b[39mset_aspect(aspect)\n\u001b[1;32m   <a href='file:///home/flavia/.local/lib/python3.10/site-packages/matplotlib/axes/_axes.py?line=5481'>5482</a>\u001b[0m im \u001b[39m=\u001b[39m mimage\u001b[39m.\u001b[39mAxesImage(\u001b[39mself\u001b[39m, cmap, norm, interpolation,\n\u001b[1;32m   <a href='file:///home/flavia/.local/lib/python3.10/site-packages/matplotlib/axes/_axes.py?line=5482'>5483</a>\u001b[0m                       origin, extent, filternorm\u001b[39m=\u001b[39mfilternorm,\n\u001b[1;32m   <a href='file:///home/flavia/.local/lib/python3.10/site-packages/matplotlib/axes/_axes.py?line=5483'>5484</a>\u001b[0m                       filterrad\u001b[39m=\u001b[39mfilterrad, resample\u001b[39m=\u001b[39mresample,\n\u001b[1;32m   <a href='file:///home/flavia/.local/lib/python3.10/site-packages/matplotlib/axes/_axes.py?line=5484'>5485</a>\u001b[0m                       interpolation_stage\u001b[39m=\u001b[39minterpolation_stage,\n\u001b[1;32m   <a href='file:///home/flavia/.local/lib/python3.10/site-packages/matplotlib/axes/_axes.py?line=5485'>5486</a>\u001b[0m                       \u001b[39m*\u001b[39m\u001b[39m*\u001b[39mkwargs)\n\u001b[0;32m-> <a href='file:///home/flavia/.local/lib/python3.10/site-packages/matplotlib/axes/_axes.py?line=5487'>5488</a>\u001b[0m im\u001b[39m.\u001b[39;49mset_data(X)\n\u001b[1;32m   <a href='file:///home/flavia/.local/lib/python3.10/site-packages/matplotlib/axes/_axes.py?line=5488'>5489</a>\u001b[0m im\u001b[39m.\u001b[39mset_alpha(alpha)\n\u001b[1;32m   <a href='file:///home/flavia/.local/lib/python3.10/site-packages/matplotlib/axes/_axes.py?line=5489'>5490</a>\u001b[0m \u001b[39mif\u001b[39;00m im\u001b[39m.\u001b[39mget_clip_path() \u001b[39mis\u001b[39;00m \u001b[39mNone\u001b[39;00m:\n\u001b[1;32m   <a href='file:///home/flavia/.local/lib/python3.10/site-packages/matplotlib/axes/_axes.py?line=5490'>5491</a>\u001b[0m     \u001b[39m# image does not already have clipping set, clip to axes patch\u001b[39;00m\n",
      "File \u001b[0;32m~/.local/lib/python3.10/site-packages/matplotlib/image.py:715\u001b[0m, in \u001b[0;36m_ImageBase.set_data\u001b[0;34m(self, A)\u001b[0m\n\u001b[1;32m    <a href='file:///home/flavia/.local/lib/python3.10/site-packages/matplotlib/image.py?line=710'>711</a>\u001b[0m     \u001b[39mself\u001b[39m\u001b[39m.\u001b[39m_A \u001b[39m=\u001b[39m \u001b[39mself\u001b[39m\u001b[39m.\u001b[39m_A[:, :, \u001b[39m0\u001b[39m]\n\u001b[1;32m    <a href='file:///home/flavia/.local/lib/python3.10/site-packages/matplotlib/image.py?line=712'>713</a>\u001b[0m \u001b[39mif\u001b[39;00m \u001b[39mnot\u001b[39;00m (\u001b[39mself\u001b[39m\u001b[39m.\u001b[39m_A\u001b[39m.\u001b[39mndim \u001b[39m==\u001b[39m \u001b[39m2\u001b[39m\n\u001b[1;32m    <a href='file:///home/flavia/.local/lib/python3.10/site-packages/matplotlib/image.py?line=713'>714</a>\u001b[0m         \u001b[39mor\u001b[39;00m \u001b[39mself\u001b[39m\u001b[39m.\u001b[39m_A\u001b[39m.\u001b[39mndim \u001b[39m==\u001b[39m \u001b[39m3\u001b[39m \u001b[39mand\u001b[39;00m \u001b[39mself\u001b[39m\u001b[39m.\u001b[39m_A\u001b[39m.\u001b[39mshape[\u001b[39m-\u001b[39m\u001b[39m1\u001b[39m] \u001b[39min\u001b[39;00m [\u001b[39m3\u001b[39m, \u001b[39m4\u001b[39m]):\n\u001b[0;32m--> <a href='file:///home/flavia/.local/lib/python3.10/site-packages/matplotlib/image.py?line=714'>715</a>\u001b[0m     \u001b[39mraise\u001b[39;00m \u001b[39mTypeError\u001b[39;00m(\u001b[39m\"\u001b[39m\u001b[39mInvalid shape \u001b[39m\u001b[39m{}\u001b[39;00m\u001b[39m for image data\u001b[39m\u001b[39m\"\u001b[39m\n\u001b[1;32m    <a href='file:///home/flavia/.local/lib/python3.10/site-packages/matplotlib/image.py?line=715'>716</a>\u001b[0m                     \u001b[39m.\u001b[39mformat(\u001b[39mself\u001b[39m\u001b[39m.\u001b[39m_A\u001b[39m.\u001b[39mshape))\n\u001b[1;32m    <a href='file:///home/flavia/.local/lib/python3.10/site-packages/matplotlib/image.py?line=717'>718</a>\u001b[0m \u001b[39mif\u001b[39;00m \u001b[39mself\u001b[39m\u001b[39m.\u001b[39m_A\u001b[39m.\u001b[39mndim \u001b[39m==\u001b[39m \u001b[39m3\u001b[39m:\n\u001b[1;32m    <a href='file:///home/flavia/.local/lib/python3.10/site-packages/matplotlib/image.py?line=718'>719</a>\u001b[0m     \u001b[39m# If the input data has values outside the valid range (after\u001b[39;00m\n\u001b[1;32m    <a href='file:///home/flavia/.local/lib/python3.10/site-packages/matplotlib/image.py?line=719'>720</a>\u001b[0m     \u001b[39m# normalisation), we issue a warning and then clip X to the bounds\u001b[39;00m\n\u001b[1;32m    <a href='file:///home/flavia/.local/lib/python3.10/site-packages/matplotlib/image.py?line=720'>721</a>\u001b[0m     \u001b[39m# - otherwise casting wraps extreme values, hiding outliers and\u001b[39;00m\n\u001b[1;32m    <a href='file:///home/flavia/.local/lib/python3.10/site-packages/matplotlib/image.py?line=721'>722</a>\u001b[0m     \u001b[39m# making reliable interpretation impossible.\u001b[39;00m\n\u001b[1;32m    <a href='file:///home/flavia/.local/lib/python3.10/site-packages/matplotlib/image.py?line=722'>723</a>\u001b[0m     high \u001b[39m=\u001b[39m \u001b[39m255\u001b[39m \u001b[39mif\u001b[39;00m np\u001b[39m.\u001b[39missubdtype(\u001b[39mself\u001b[39m\u001b[39m.\u001b[39m_A\u001b[39m.\u001b[39mdtype, np\u001b[39m.\u001b[39minteger) \u001b[39melse\u001b[39;00m \u001b[39m1\u001b[39m\n",
      "\u001b[0;31mTypeError\u001b[0m: Invalid shape (10, 10, 1000) for image data"
     ]
    },
    {
     "data": {
      "image/png": "[encoded data removed]",
      "text/plain": [
       "<Figure size 432x288 with 1 Axes>"
      ]
     },
     "metadata": {
      "needs_background": "light"
     },
     "output_type": "display_data"
    }
   ],
   "source": [
    "#Store a centroid grid for easy retrieval later on\n",
    "centroid_grid = [[] for i in range(m)]\n",
    "weights = som.get_weights()\n",
    "locations = som.get_locations()\n",
    "for i, loc in enumerate(locations):\n",
    "    centroid_grid[loc[0]].append(weights[i].numpy())\n",
    " \n",
    "#Get output grid\n",
    "image_grid = centroid_grid\n",
    "\n",
    "#Map colours to their closest neurons\n",
    "mapped = som.map_vects(torch.Tensor(data))\n",
    "\n",
    "#Plot\n",
    "label_groups = ['1','2','3','4','5','6','7','8','9','10']\n",
    "\n",
    "plt.imshow(image_grid)\n",
    "plt.title('SOM')\n",
    "for i, m in enumerate(mapped):\n",
    "    plt.text(m[1], m[0], label_groups[i], ha='center', va='center',\n",
    "             bbox=dict(facecolor='white', alpha=0.5, lw=0))\n",
    "plt.show()"
   ]
  },
  {
   "cell_type": "markdown",
   "metadata": {},
   "source": [
    "Save plots and model"
   ]
  },
  {
   "cell_type": "code",
   "execution_count": null,
   "metadata": {},
   "outputs": [],
   "source": [
    "\n",
    "torch.save(som.state_dict(), '%s/som.pth' % MODEL_DIR)"
   ]
  }
 ],
 "metadata": {
  "interpreter": {
   "hash": "e7370f93d1d0cde622a1f8e1c04877d8463912d04d973331ad4851f04de6915a"
  },
  "kernelspec": {
   "display_name": "Python 3.10.4 64-bit",
   "language": "python",
   "name": "python3"
  },
  "language_info": {
   "codemirror_mode": {
    "name": "ipython",
    "version": 3
   },
   "file_extension": ".py",
   "mimetype": "text/x-python",
   "name": "python",
   "nbconvert_exporter": "python",
   "pygments_lexer": "ipython3",
   "version": "3.10.4"
  },
  "orig_nbformat": 4
 },
 "nbformat": 4,
 "nbformat_minor": 2
}
